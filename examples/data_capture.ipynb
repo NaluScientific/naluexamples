{
 "cells": [
  {
   "attachments": {},
   "cell_type": "markdown",
   "id": "65d921c6",
   "metadata": {},
   "source": [
    "# Readout Example\n",
    "\n",
    "This example notebook shows how a user can read out the data from a board.\n",
    "\n",
    "This example applies to all board mdoels"
   ]
  },
  {
   "attachments": {},
   "cell_type": "markdown",
   "id": "fdd283a0",
   "metadata": {},
   "source": [
    "### Naludaq Version  \n",
    "*Min Version*: `0.21.0`"
   ]
  },
  {
   "cell_type": "code",
   "execution_count": null,
   "id": "09e7cd58",
   "metadata": {},
   "outputs": [],
   "source": [
    "# Print Naludaq version\n",
    "import naludaq\n",
    "print(f\"Naludaq version: {naludaq.__version__}\")"
   ]
  },
  {
   "attachments": {},
   "cell_type": "markdown",
   "id": "219057d8",
   "metadata": {},
   "source": [
    "### Compatible Boards\n",
    "+ `AARDVARCv3`\n",
    "+ `AARDVARCv4`\n",
    "+ `AODSoC_AODS`\n",
    "+ `AODSoC_ASoC`\n",
    "+ `AODSv2`\n",
    "+ `ASoCv3`\n",
    "+ `HDSoCv1_evalr2`\n",
    "+ `TRBHMv1`\n",
    "+ `UDC16`\n",
    "+ `UPAC96`\n"
   ]
  },
  {
   "attachments": {},
   "cell_type": "markdown",
   "id": "53a50212-4948-4bd3-a5f0-af6dc0f623ca",
   "metadata": {},
   "source": [
    "## Imports and Variables"
   ]
  },
  {
   "cell_type": "code",
   "execution_count": null,
   "id": "d1fbba11-eac1-42f1-ba2d-986611da3774",
   "metadata": {},
   "outputs": [],
   "source": [
    "# Useful for debugging, but not normally necessary\n",
    "%load_ext autoreload\n",
    "%autoreload 2"
   ]
  },
  {
   "cell_type": "code",
   "execution_count": null,
   "id": "874274c1-f553-4c8d-b88e-8c6c036bcd8f",
   "metadata": {},
   "outputs": [],
   "source": [
    "import time\n",
    "\n",
    "import numpy as np\n",
    "\n",
    "# Imports for board creation and identification\n",
    "from naludaq.board import Board, startup_board\n",
    "from naludaq.tools.ftdi import list_ftdi_devices\n",
    "\n",
    "# Controllers controls one aspect of the board\n",
    "from naludaq.controllers import get_board_controller\n",
    "\n",
    "# Imports for data acquisition.\n",
    "from naludaq.tools.data_collector import get_data_collector\n",
    "\n",
    "# Imports for helpers (requires installation of the naluexamples package)\n",
    "from naluexamples.helpers.plotting import set_plot_style, simple_event_plot"
   ]
  },
  {
   "cell_type": "markdown",
   "id": "52361c83",
   "metadata": {},
   "source": [
    "The logger setup below will show additional information from the NaluDAQ package. This is useful for debugging purposes, but\n",
    "may be skipped if not needed."
   ]
  },
  {
   "cell_type": "code",
   "execution_count": null,
   "id": "6b895960",
   "metadata": {},
   "outputs": [],
   "source": [
    "import logging\n",
    "\n",
    "\n",
    "def setup_logger(level=logging.INFO):\n",
    "    \"\"\"Setup a basic logger.\"\"\"\n",
    "    logger = logging.getLogger()\n",
    "    handler = logging.StreamHandler()\n",
    "    handler.setFormatter(\n",
    "        logging.Formatter(\"%(asctime)s %(name)-30s [%(levelname)-6s]: %(message)s\")\n",
    "    )\n",
    "    logger.addHandler(handler)\n",
    "    logger.setLevel(level)\n",
    "    suppress = [\n",
    "        \"naludaq.UART\",\n",
    "        \"naludaq.FTDI\",\n",
    "    ]\n",
    "    for name in suppress:\n",
    "        logging.getLogger(name).setLevel(logging.CRITICAL)\n",
    "    return logger\n",
    "\n",
    "\n",
    "try:\n",
    "    logger.debug(\"logger already setup\")\n",
    "except:\n",
    "    logger = setup_logger()"
   ]
  },
  {
   "cell_type": "code",
   "execution_count": null,
   "id": "c1b7a339",
   "metadata": {},
   "outputs": [],
   "source": [
    "set_plot_style()"
   ]
  },
  {
   "attachments": {},
   "cell_type": "markdown",
   "id": "2c37951b-7f07-4690-a6ae-e3ccc64dde8e",
   "metadata": {},
   "source": [
    "## Create board object"
   ]
  },
  {
   "attachments": {},
   "cell_type": "markdown",
   "id": "5f3a6325",
   "metadata": {},
   "source": [
    "Use the function below to find the serial number of the board you want to connect to."
   ]
  },
  {
   "cell_type": "code",
   "execution_count": null,
   "id": "52d9cb31-d506-40f8-88ee-b18068d4d1de",
   "metadata": {
    "scrolled": true,
    "tags": []
   },
   "outputs": [],
   "source": [
    "list_ftdi_devices()"
   ]
  },
  {
   "cell_type": "markdown",
   "id": "e3dd0d5d",
   "metadata": {},
   "source": [
    "Modify the settings below to match your board:"
   ]
  },
  {
   "cell_type": "code",
   "execution_count": null,
   "id": "2b6e5a14-3517-48dc-8070-eb5a7d5aba89",
   "metadata": {},
   "outputs": [],
   "source": [
    "MODEL = \"aardvarcv3\"\n",
    "SERIAL_NUMBER = \"A904CVKK\"\n",
    "BAUD_RATE = None  # set to None to use max speed"
   ]
  },
  {
   "cell_type": "code",
   "execution_count": null,
   "id": "b8b74087-cc1a-4274-9ae0-30c7fea69dbc",
   "metadata": {},
   "outputs": [],
   "source": [
    "BOARD = Board(MODEL.lower())"
   ]
  },
  {
   "cell_type": "code",
   "execution_count": null,
   "id": "95a8cc8e-2ff2-4b42-b945-0c72f8078ec5",
   "metadata": {},
   "outputs": [],
   "source": [
    "BAUD_RATE = BAUD_RATE or max(BOARD.params[\"possible_bauds\"].keys())\n",
    "BOARD.get_ftdi_connection(serial_number=SERIAL_NUMBER, baud=BAUD_RATE)"
   ]
  },
  {
   "cell_type": "code",
   "execution_count": null,
   "id": "0ac40638-c852-48a2-b8a5-a12e85ea6eb2",
   "metadata": {
    "scrolled": true,
    "tags": []
   },
   "outputs": [],
   "source": [
    "startup_board(BOARD)"
   ]
  },
  {
   "cell_type": "markdown",
   "id": "8c6ce66a",
   "metadata": {},
   "source": [
    "## Using the Data Collector\n",
    "\n",
    "The `DataCollector` class is a NaluDAQ tool which is capable of reliably collecting data. It provides significant flexibility through its `iter()` function, which allows for the creation of a data pipeline.\n",
    "\n",
    "This pipeline can be a bit confusing at first, but is very powerful once understood."
   ]
  },
  {
   "cell_type": "markdown",
   "id": "7e44836e",
   "metadata": {},
   "source": [
    "Let's take a look at some simple examples first. Initially we need to set up a `DataCollector` using the `Board` object."
   ]
  },
  {
   "cell_type": "code",
   "execution_count": null,
   "id": "e5a33c0c",
   "metadata": {},
   "outputs": [],
   "source": [
    "COLLECTOR = get_data_collector(BOARD)\n",
    "COLLECTOR.channels = range(BOARD.channels)\n",
    "COLLECTOR.set_window(windows=10, lookback=10, write_after_trig=10)"
   ]
  },
  {
   "cell_type": "markdown",
   "id": "397df2e2",
   "metadata": {},
   "source": [
    "In the cell below, we use the `iter()` function to create a special iterator through which we can chain together a pipeline.\n",
    "\n",
    "The `take(5)` portion specifies that we desire only 5 events from the pipeline, after which the iterator terminates.\n",
    "\n",
    "The `collect()` function executes the data collection pipeline and collects the 5 events into a list.\n",
    "\n",
    "Lastly, we plot the 9th (last) event in the result."
   ]
  },
  {
   "cell_type": "code",
   "execution_count": null,
   "id": "b41d8e14",
   "metadata": {},
   "outputs": [],
   "source": [
    "DATA = COLLECTOR.iter(count=10).take(5).collect()\n",
    "simple_event_plot(DATA[4])"
   ]
  },
  {
   "cell_type": "markdown",
   "id": "24881dc2",
   "metadata": {},
   "source": [
    "The iterator returned by the `iter()` function provides us with many options in how we wish to piece together our data pipeline. Each stage of the pipeline is executed sequentially on each element of the iterator on the fly; as soon as an event is captured it is passed through the entire pipeline before the next event is captured.\n",
    "\n",
    "The (non-exhaustive) list of functions available to us are:\n",
    "- `take(n)` - take only the first `n` elements of the iterator, as in the cell above. All other elements are discarded.\n",
    "- `map(f)` - apply the function `f` to each element of the iterator, passing the result on through the pipeline. The result of the function does not need to be a list\n",
    "- `filter(f)` - apply the function `f` to each element of the iterator, passing the result on through the pipeline only if `f` returns `True`.\n",
    "- `skip(n)` - skip the first `n` elements of the iterator\n",
    "- `skip_while(n)` - skip elements of the iterator while the function `f` returns `True`\n",
    "- `take_while(n)` - take elements of the iterator while the function `f` returns `True`\n",
    "- `enumerate()` - pass the element of the iterator along with its index through the pipeline\n",
    "- `unenumerate()` - pass only the element of the iterator through the pipeline, discarding the index. An `enumerate()` stage must precede this stage.\n",
    "\n",
    "Note that the events are passed through the pipeline as quickly as they arrive (disclaimer: up to 10 ms delay), but the stages added by the user can introduce some delay which causes events to be received later than expected, depending on how long the pipeline takes to execute. If the pipeline is slow, it is advisable to either:\n",
    "\n",
    "1. capture all events first then process the data, or\n",
    "2. use the `map(f)` function to pass the data to a processing thread."
   ]
  },
  {
   "cell_type": "markdown",
   "id": "01eda19b",
   "metadata": {},
   "source": [
    "That being said, let's look at a fancier example. Put together, the cell below will filter out odd-numbered events, take the first 10 events, then discard the first 2."
   ]
  },
  {
   "cell_type": "code",
   "execution_count": null,
   "id": "6903438d",
   "metadata": {},
   "outputs": [],
   "source": [
    "DATA = (\n",
    "    COLLECTOR.iter(count=100)\n",
    "    .enumerate()                      # 1. add an index to each event so each element is of the form (index, event)\n",
    "    .filter(lambda x: x[0] % 2 == 1)  # 2. only collect odd events (skip every other event)\n",
    "    .take_while(lambda x: x[0] < 10)  # 3. only collect the first 10 events (same as take(10))\n",
    "    .skip(2)                          # 4. skip the first 2 events\n",
    "    .collect()                        # 5. execute the data collector and collect the events into a list\n",
    ")\n",
    "print(\"Got event numbers: \", [x[0] for x in DATA])"
   ]
  },
  {
   "cell_type": "markdown",
   "id": "e17ebaa3",
   "metadata": {},
   "source": [
    "The iterator returned by the `DataCollector` acts as a regular old Python iterator, so it can also be used in a `for` loop. Note that the body of the for loop will be executed in real-time, so you can process the data as it is being captured."
   ]
  },
  {
   "cell_type": "code",
   "execution_count": null,
   "id": "be8517c9",
   "metadata": {},
   "outputs": [],
   "source": [
    "for i, event in COLLECTOR.iter(count=5).enumerate():\n",
    "    print(f\"Just captured event {i}\")\n",
    "\n",
    "    # some boards are really fast, so let's wait a bit to demonstrate the real-time execution.\n",
    "    time.sleep(1)"
   ]
  },
  {
   "cell_type": "markdown",
   "id": "e68039f6",
   "metadata": {},
   "source": [
    "Exit conditions can also be specified in the body of a loop. The example below also demonstrates that built-in functions such as `enumerate` can be used to wrap the `DataCollector` iterator."
   ]
  },
  {
   "cell_type": "code",
   "execution_count": null,
   "id": "98f80115",
   "metadata": {},
   "outputs": [],
   "source": [
    "another_iterable = range(100)\n",
    "for i, event in zip(another_iterable, COLLECTOR.iter(count=10)):\n",
    "    if i >= 5:\n",
    "        break\n",
    "    print(f\"Just captured event {i}\")"
   ]
  },
  {
   "cell_type": "markdown",
   "id": "082e2703",
   "metadata": {},
   "source": [
    "Remember, the `DataCollector` iterator pipeline need not only pass along events, it can pass along anything you wish!\n",
    "\n",
    "The example below takes the average of each channel and prints the index and the mean value for each event."
   ]
  },
  {
   "cell_type": "code",
   "execution_count": null,
   "id": "e5338a2c",
   "metadata": {},
   "outputs": [],
   "source": [
    "def do_some_processing(event: dict) -> list[float]:\n",
    "    \"\"\"Perform some processing on the event and return a list.\n",
    "    \n",
    "    In this example we just return the mean over all samples of each channel.\n",
    "    \"\"\"\n",
    "    return [np.mean(channel_data) for channel_data in event[\"data\"]]\n",
    "\n",
    "\n",
    "_ = (\n",
    "    COLLECTOR\n",
    "        .iter(count=10)\n",
    "        .map(do_some_processing)\n",
    "        .enumerate()\n",
    "        .map(print)\n",
    "        .collect()\n",
    ")"
   ]
  },
  {
   "cell_type": "markdown",
   "id": "f2b3afa7",
   "metadata": {},
   "source": [
    "The `DataCollector` also provides an `iter_inf()` function which returns an infinite iterator over the data. It will continue to return data until a user-defined exit condition is met. This is especially useful when the exit condition is non-deterministic."
   ]
  },
  {
   "cell_type": "code",
   "execution_count": null,
   "id": "4b82d099",
   "metadata": {},
   "outputs": [],
   "source": [
    "_ = (\n",
    "    COLLECTOR\n",
    "        .iter_inf()\n",
    "        .enumerate()\n",
    "        .take_while(lambda x: x[0] < 10)\n",
    "        .collect()\n",
    ")"
   ]
  },
  {
   "cell_type": "markdown",
   "id": "f48c4bf1",
   "metadata": {},
   "source": [
    "## If the DataCollector Suddenly Times Out\n",
    "\n",
    "Sometimes a board may lock up, or fail to return events for some reason. The `iter()` and `iter_inf()` functions take an optional `attempts` parameter which can be used to adjust how many times the `DataCollector` will attempt to read an event before giving up and raising a `TimeoutError`. The default is `3` attempts, but you can raise this number if you find that your data collection is timing out too often."
   ]
  },
  {
   "cell_type": "markdown",
   "id": "4b9f174a",
   "metadata": {},
   "source": [
    "Most of the time, getting a `TimeoutError` just means that `attempts` is too low. However, here are some other less-common possibilities:\n",
    "\n",
    "- you are using older/incompatible versions of naluconfigs/naludaq/firmware\n",
    "- a background thread is hogging the serial port (mainly a problem when using an older DAQ class)\n",
    "- the firmware has gotten locked up, in which case running the cell below should fix it. If not, try a power cycle."
   ]
  },
  {
   "cell_type": "code",
   "execution_count": null,
   "id": "42366b0b",
   "metadata": {},
   "outputs": [],
   "source": [
    "get_board_controller(BOARD).reset_board()"
   ]
  }
 ],
 "metadata": {
  "kernelspec": {
   "display_name": "Python 3.9.7 ('nalu')",
   "language": "python",
   "name": "python3"
  },
  "language_info": {
   "codemirror_mode": {
    "name": "ipython",
    "version": 3
   },
   "file_extension": ".py",
   "mimetype": "text/x-python",
   "name": "python",
   "nbconvert_exporter": "python",
   "pygments_lexer": "ipython3",
   "version": "3.9.13"
  },
  "vscode": {
   "interpreter": {
    "hash": "accc7a960cce00f1cc1c7d0bbea67107a897accbf9e5f303b1e319fcac33fa0d"
   }
  }
 },
 "nbformat": 4,
 "nbformat_minor": 5
}
