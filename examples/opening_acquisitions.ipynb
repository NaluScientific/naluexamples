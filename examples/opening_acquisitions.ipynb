{
 "cells": [
  {
   "attachments": {},
   "cell_type": "markdown",
   "metadata": {},
   "source": [
    "### Naludaq Version\n",
    "*Min Version*: `0.17.2`"
   ]
  },
  {
   "cell_type": "code",
   "execution_count": null,
   "metadata": {},
   "outputs": [],
   "source": [
    "# Print Naludaq version\n",
    "import naludaq\n",
    "print(f\"Naludaq version: {naludaq.__version__}\")"
   ]
  },
  {
   "attachments": {},
   "cell_type": "markdown",
   "metadata": {},
   "source": [
    "### Prerequisites\n",
    "+ Acquisition captured previously (can be from NaluScope)"
   ]
  },
  {
   "cell_type": "code",
   "execution_count": null,
   "metadata": {},
   "outputs": [],
   "source": [
    "# Run this code for plotting\n",
    "import matplotlib.pyplot as plt\n",
    "\n",
    "from naluexamples.helpers.plotting import get_color_mapping, set_plot_style\n",
    "\n",
    "def plot_event(event: dict, channels: list[int]=None, title: str=None):\n",
    "    \"\"\"Plot an event dict.\n",
    "\n",
    "    Args:\n",
    "        event (dict): the parsed event\n",
    "        channels (list[int]): Channels to plot. Defaults to all channels.\n",
    "        title (str): Optional title for the plot\n",
    "    \"\"\"\n",
    "    channels = channels or range(len(event[\"data\"]))\n",
    "    title = title or f\"Event #{event.get('pkg_num', '?')}\"\n",
    "\n",
    "\n",
    "    # Plot the event\n",
    "    plt.figure(figsize=(8,8), constrained_layout=True)\n",
    "    plt.xlabel(\"Time\")\n",
    "    plt.ylabel(\"ADC Counts\")\n",
    "    plt.title(title)\n",
    "    cmap = get_color_mapping(\"ocean\")\n",
    "    set_plot_style(font_size=18, font_family=\"monospace\")\n",
    "    for i, channel in enumerate(channels):\n",
    "        time = event[\"time\"][channel]\n",
    "        data = event[\"data\"][channel]\n",
    "        plt.plot(time, data, \".-\", label=f\"Channel {channel}\", color=cmap(i / len(channels)))\n",
    "    plt.legend()\n",
    "    plt.show()"
   ]
  },
  {
   "attachments": {},
   "cell_type": "markdown",
   "metadata": {},
   "source": [
    "## Acquisition Format\n",
    "\n",
    "Acquisitions captured using the Nalu Scientific hardware server use a different data format than legacy acquisitions in order to support higher readout rates and add some failsafe mechanisms\n",
    "\n",
    "```\n",
    "acquisition/\n",
    "├── metadata.yml - Stores board parameters and register values at time of capture\n",
    "├── {n}.bin - One or more \"chunks\" containing raw events stored back-to-back in chronological order. See below for more information\n",
    "├── {n}.idx - Contains information about where in the `.bin` files each event is located. See below for more information\n",
    "├── (pedestals_calibration) - Pedestals calibration data, stored as a Python pickle\n",
    "├── (timing_calibration) - Timing calibration data, stored as a Python pickle\n",
    "└── (adc2mv_calibration) - ADC/mV calibration data, stored as a Python pickle\n",
    "```\n",
    "\n",
    "### Bin File Format\n",
    "Each `.bin` file is referred to as a \"chunk.\" Each chunk is limited to 500 MB and begins with the following header:\n",
    "\n",
    "```rust\n",
    "// Struct is written according to native endianness\n",
    "struct Header {\n",
    "    // Format revision number\n",
    "    version: u16,\n",
    "    // Reserved for future use\n",
    "    _reserved: u16,\n",
    "    // Length of the metadata sector\n",
    "    metadata_sector_length: u32,\n",
    "}\n",
    "```\n",
    "\n",
    "The metadata sector follows the header, and contains a copy of the `metadata.yml` file.\n",
    "\n",
    "### Idx File Format\n",
    "Each `.idx` file is referred to as an \"index file,\" and contains a long list of \"entries\" holding information about where each event is located in the chunk file with the corresponding name. Each entry has the following format:\n",
    "\n",
    "```rust\n",
    "// Struct is written according to native endianness\n",
    "struct IndexEntry {\n",
    "    // Offset in bytes of the event in the chunk.\n",
    "    offset: u32,\n",
    "    // Length of the event\n",
    "    length: u32,\n",
    "}\n",
    "```"
   ]
  },
  {
   "attachments": {},
   "cell_type": "markdown",
   "metadata": {},
   "source": [
    "### Opening Acquisitions\n",
    "\n",
    "This example applies to acquisitions captured using the server. For legacy acquisitions, see the other notebook."
   ]
  },
  {
   "cell_type": "code",
   "execution_count": null,
   "metadata": {},
   "outputs": [],
   "source": [
    "from naludaq.backend import DiskAcquisition\n",
    "\n",
    "\n",
    "ACQ_PATH = r\"<PATH TO ACQUISITION FOLDER>\"\n",
    "\n",
    "# DiskAcquisition is recommended to be used as a context manager for safety\n",
    "with DiskAcquisition(ACQ_PATH) as acq:\n",
    "    print(\"Board model:\", acq.params[\"model\"])\n",
    "    print(\"Number of events:\", len(acq))\n",
    "    print(\"Pedestals stored:\", acq.pedestals is not None)"
   ]
  },
  {
   "attachments": {},
   "cell_type": "markdown",
   "metadata": {},
   "source": [
    "Events can be accessed in either raw or parsed form. For most purposes, parsed events are desired. Acquisitions are not loaded into memory because they can be very large. As a consequence, this means they currently are loaded from disk each time. If this is a concern, it is recommended to cache the results."
   ]
  },
  {
   "cell_type": "code",
   "execution_count": null,
   "metadata": {},
   "outputs": [],
   "source": [
    "EVENT_INDEX = 0\n",
    "\n",
    "# Read the event from disk\n",
    "with DiskAcquisition(ACQ_PATH) as acq:\n",
    "    # Accessing events with the subscript operator will parse the events automatically.\n",
    "    # The subscript operator also supports slices.\n",
    "    EVENT = acq[EVENT_INDEX]\n",
    "\n",
    "# Missing data field means the event could not be parsed\n",
    "if EVENT.get(\"data\", None) is None:\n",
    "    print(\"Event is corrupted!\")\n",
    "else:\n",
    "    plot_event(EVENT)"
   ]
  },
  {
   "attachments": {},
   "cell_type": "markdown",
   "metadata": {},
   "source": [
    "## Pedestals Subtraction\n",
    "\n",
    "For both acquisition formats, the events stored in the acquisitions are not pedestal-subtracted. To obtain pedestals-subtracted events, the process must be performed manually on the events."
   ]
  },
  {
   "cell_type": "code",
   "execution_count": null,
   "metadata": {},
   "outputs": [],
   "source": [
    "from naludaq.tools.pedestals.pedestals_correcter import PedestalsCorrecter\n",
    "\n",
    "\n",
    "# Fetch an event, pedestals, and params from disk\n",
    "ACQ_PATH = r\"<PATH TO ACQUISITION FOLDER>\"\n",
    "EVENT_INDEX = 0\n",
    "with DiskAcquisition(ACQ_PATH) as acq:\n",
    "    event = acq[EVENT_INDEX]\n",
    "    params = acq.params\n",
    "    pedestals = acq.pedestals\n",
    "    \n",
    "if pedestals is None:\n",
    "    print(\"Acquisition must have pedestals in order to correct data!\")\n",
    "else:\n",
    "    # Apply correction (in place)\n",
    "    corrector = PedestalsCorrecter(params, pedestals)\n",
    "    corrected_event = corrector.run(event, correct_in_place=True)\n",
    "    plot_event(corrected_event)"
   ]
  }
 ],
 "metadata": {
  "kernelspec": {
   "display_name": "Python 3.9.12 ('nalu-dev')",
   "language": "python",
   "name": "python3"
  },
  "language_info": {
   "codemirror_mode": {
    "name": "ipython",
    "version": 3
   },
   "file_extension": ".py",
   "mimetype": "text/x-python",
   "name": "python",
   "nbconvert_exporter": "python",
   "pygments_lexer": "ipython3",
   "version": "3.9.13"
  },
  "vscode": {
   "interpreter": {
    "hash": "19aafdb373e9c9f5f579aba7283426ef4b21b1116573b1fcfac821e6343cfbff"
   }
  }
 },
 "nbformat": 4,
 "nbformat_minor": 2
}
