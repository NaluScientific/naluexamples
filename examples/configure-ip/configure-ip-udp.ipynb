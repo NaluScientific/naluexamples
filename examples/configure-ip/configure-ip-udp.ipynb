{
 "cells": [
  {
   "cell_type": "markdown",
   "id": "3fb5163a",
   "metadata": {
    "vscode": {
     "languageId": "plaintext"
    }
   },
   "source": [
    "# Configuring IP over UDP\n",
    "\n",
    "This example notebook shows how a user can configure the Ethernet connection of their board.\n",
    "\n",
    "This example applies to all board models that have an Ethernet port."
   ]
  },
  {
   "cell_type": "markdown",
   "id": "93059316",
   "metadata": {},
   "source": [
    "## Naludaq Version\n",
    "\n",
    "MinVersion: 0.33.2"
   ]
  },
  {
   "cell_type": "code",
   "execution_count": null,
   "id": "be6785b7",
   "metadata": {},
   "outputs": [],
   "source": [
    "# Print Naludaq version \n",
    "import naludaq\n",
    "print(f\"Naludaq version: {naludaq.__version__}\")"
   ]
  },
  {
   "cell_type": "markdown",
   "id": "344ce803",
   "metadata": {},
   "source": [
    "## Compatible Boards\n",
    "\n",
    "* "
   ]
  },
  {
   "cell_type": "markdown",
   "id": "a287b8c7",
   "metadata": {},
   "source": [
    "# Imports and Variables"
   ]
  },
  {
   "cell_type": "code",
   "execution_count": null,
   "id": "c415f0f3",
   "metadata": {},
   "outputs": [],
   "source": [
    "# Useful for debugging, but not normally necessary\n",
    "%load_ext autoreload\n",
    "%autoreload 2"
   ]
  },
  {
   "cell_type": "code",
   "execution_count": null,
   "id": "9a0d3726",
   "metadata": {},
   "outputs": [],
   "source": [
    "from naludaq.board import Board, startup_board\n",
    "from naludaq.communication import ControlRegisters\n",
    "from naludaq.controllers import get_connection_controller\n",
    "\n",
    "import os"
   ]
  },
  {
   "cell_type": "markdown",
   "id": "0c277285",
   "metadata": {},
   "source": [
    "## Logging"
   ]
  },
  {
   "cell_type": "markdown",
   "id": "e4a616b0",
   "metadata": {},
   "source": [
    "The logger setup below will show additional information from the NaluDAQ package. This is useful for debugging purposes, but\n",
    "may be skipped if not needed."
   ]
  },
  {
   "cell_type": "code",
   "execution_count": null,
   "id": "69fb353f",
   "metadata": {},
   "outputs": [],
   "source": [
    "import logging\n",
    "\n",
    "\n",
    "def setup_logger(level=logging.INFO):\n",
    "    \"\"\"Setup a basic logger.\"\"\"\n",
    "    logger = logging.getLogger()\n",
    "    handler = logging.StreamHandler()\n",
    "    handler.setFormatter(\n",
    "        logging.Formatter(\"%(asctime)s %(name)-30s [%(levelname)-6s]: %(message)s\")\n",
    "    )\n",
    "    logger.addHandler(handler)\n",
    "    logger.setLevel(level)\n",
    "    suppress = [\n",
    "        \"naludaq.UART\",\n",
    "        \"naludaq.FTDI\",\n",
    "    ]\n",
    "    for name in suppress:\n",
    "        logging.getLogger(name).setLevel(logging.CRITICAL)\n",
    "    return logger\n",
    "\n",
    "\n",
    "try:\n",
    "    logger.debug(\"logger already setup\")\n",
    "except:\n",
    "    logger = setup_logger()"
   ]
  },
  {
   "cell_type": "markdown",
   "id": "f423086d",
   "metadata": {},
   "source": [
    "## Board Configuration Options\n",
    "\n",
    "The following parameters must be provided to successfully set the IP address:\n",
    "\n",
    "- board_model:      : The board model. Valid options are listed below (as of 7/31/25):\n",
    "                       \n",
    "                       Options:\n",
    "                       \n",
    "\n",
    "- default_board_addr: (*ip_address*, *port*)\n",
    "  - Refer to the Quick Start guide for your board.\n",
    "\n",
    "- target_board_addr:  (*ip_address*, *port*)\n",
    "  - This is the IP address that you would like to set the board to\n",
    "\n",
    "- recv_addr:          (*ip_address*, *port*)\n",
    "   - This is the IP address of the computer used to configure the IP address of the board\n",
    "Set these parameters in the following code block.\n"
   ]
  },
  {
   "cell_type": "code",
   "execution_count": null,
   "id": "780fd288",
   "metadata": {},
   "outputs": [],
   "source": [
    "################\n",
    "# Board Config #\n",
    "################\n",
    "\n",
    "board_model = \"hdsoc2_evalr2\" # Used for this example\n",
    "workspace_folder = \"board_workspace\"\n",
    "\n",
    "\n",
    "#############\n",
    "# IP Config #\n",
    "#############\n",
    "\n",
    "default_board_addr = (\"192.168.1.60\", 4660)\n",
    "target_board_addr = (\"192.168.1.32\", 4660)\n",
    "recv_addr = (\"192,168.1.198\", 4660)"
   ]
  },
  {
   "cell_type": "code",
   "execution_count": null,
   "id": "cc2cab8e",
   "metadata": {},
   "outputs": [],
   "source": [
    "##################\n",
    "# Initialization #\n",
    "##################\n",
    "\n",
    "board = Board(board_model)\n",
    "\n",
    "workspace_folder_path = os.path.join(os.getcwd(), workspace_folder)\n",
    "\n",
    "if not os.path.exists(workspace_folder_path):\n",
    "    os.mkdir(workspace_folder_path)\n",
    "\n",
    "\n",
    "src_ip, src_port = target_board_addr\n",
    "src_octets = get_connection_controller(board)._get_octets_or_raise(src_ip)\n",
    "\n",
    "ethernet_src_config = {\n",
    "    \"eth_src_addr31_16\": (src_octets[0] << 8) | src_octets[1],\n",
    "    \"eth_src_addr15_0\": (src_octets[2] << 8) | src_octets[3],\n",
    "    \"eth_addr_sel\": (\"eth_dest_port\", src_port)\n",
    "}\n",
    "\n",
    "board.start_server(os.path.join(os.getcwd(), 'board_workspace'))\n",
    "board.connect_udp(default_board_addr, recv_addr)\n",
    "\n",
    "with board:\n",
    "    if startup_board(board, init_start=True):\n",
    "        ControlRegisters(board).write_many(\n",
    "            ethernet_src_config\n",
    "        )\n",
    "\n",
    "board.disconnect()\n",
    "print(f\"Disconnected from {board_model}\")"
   ]
  },
  {
   "cell_type": "markdown",
   "id": "265c9d0c",
   "metadata": {},
   "source": [
    "## Testing Data Collection w/ New IP Address"
   ]
  }
 ],
 "metadata": {
  "language_info": {
   "name": "python"
  }
 },
 "nbformat": 4,
 "nbformat_minor": 5
}
