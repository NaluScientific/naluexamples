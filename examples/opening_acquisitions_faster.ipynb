{
 "cells": [
  {
   "cell_type": "markdown",
   "metadata": {},
   "source": [
    "## Faster parsing of the Nalu acquisition format using Rust"
   ]
  },
  {
   "cell_type": "markdown",
   "metadata": {},
   "source": [
    "### Naludaq Version\n",
    "*Min Version*: `0.17.2`\n",
    "### Naluacq Version\n",
    "*Min version*: `0.4.1`"
   ]
  },
  {
   "cell_type": "code",
   "execution_count": null,
   "metadata": {},
   "outputs": [],
   "source": [
    "%pip show naluacq"
   ]
  },
  {
   "cell_type": "code",
   "execution_count": null,
   "metadata": {},
   "outputs": [],
   "source": [
    "%pip show naludaq"
   ]
  },
  {
   "cell_type": "markdown",
   "metadata": {},
   "source": [
    "### Prerequisites\n",
    "+ Acquisition captured previously (can be from NaluScope)"
   ]
  },
  {
   "cell_type": "code",
   "execution_count": null,
   "metadata": {},
   "outputs": [],
   "source": [
    "# Run this code for plotting\n",
    "import matplotlib\n",
    "import matplotlib.pyplot as plt\n",
    "\n",
    "\n",
    "def plot_event(event: dict, channels: list[int] = None, title: str = None):\n",
    "    \"\"\"Plot an event dict.\n",
    "\n",
    "    Args:\n",
    "        event (dict): the parsed event\n",
    "        channels (list[int]): Channels to plot. Defaults to all channels.\n",
    "        title (str): Optional title for the plot\n",
    "    \"\"\"\n",
    "    channels = channels or range(len(event[\"data\"]))\n",
    "    title = title or f\"Event #{event.get('pkg_num', '?')}\"\n",
    "\n",
    "    # Plot the event\n",
    "    plt.figure(figsize=(8, 8), constrained_layout=True)\n",
    "    plt.xlabel(\"Time\")\n",
    "    plt.ylabel(\"ADC Counts\")\n",
    "    plt.title(title)\n",
    "    cmap = get_color_mapping(\"ocean\")\n",
    "    set_plot_style(font_size=18, font_family=\"monospace\")\n",
    "    for i, channel in enumerate(channels):\n",
    "        time = event[\"time\"][channel]\n",
    "        data = event[\"data\"][channel]\n",
    "        plt.plot(\n",
    "            time, data, \".-\", label=f\"Channel {channel}\", color=cmap(i / len(channels))\n",
    "        )\n",
    "    plt.legend()\n",
    "    plt.show()\n",
    "\n",
    "\n",
    "def set_plot_style(font_size: int = 18, font_family: str = \"monospace\"):\n",
    "    \"\"\"Sets the matplotlib font size and family\"\"\"\n",
    "    matplotlib.rcParams.update({\"font.size\": font_size})\n",
    "    matplotlib.rcParams.update({\"font.family\": font_family})\n",
    "\n",
    "\n",
    "def get_color_mapping(name: str = \"ocean\"):\n",
    "    \"\"\"Gets a matplot lib color map\"\"\"\n",
    "    cmap = matplotlib.cm.get_cmap(name)\n",
    "    return cmap\n",
    "\n",
    "\n",
    "def simple_event_plot(\n",
    "    event: dict,\n",
    "    title: \"str|None\" = None,\n",
    "    xlabel: \"str|None\" = None,\n",
    "    ylabel: \"str|None\" = None,\n",
    "    legend: bool = True,\n",
    "    cmap=None,\n",
    "):\n",
    "    \"\"\"Plot a single event in a simple line graph.\n",
    "\n",
    "    Args:\n",
    "        event (dict): the event to plot. Must be parsed.\n",
    "        title (str): the title of the plot.\n",
    "        legend (bool): whether to show the legend.\n",
    "        cmap: the color map to use for the lines.\n",
    "    \"\"\"\n",
    "    plt.title(title or f\"Event {event['event_num']}\")\n",
    "    plt.xlabel(xlabel or \"Sample Number\")\n",
    "    plt.ylabel(ylabel or \"ADC Value (counts)\")\n",
    "    for channel, data in enumerate(event[\"data\"]):\n",
    "        extra_kwargs = {}\n",
    "        if cmap:\n",
    "            extra_kwargs[\"color\"] = cmap(channel / len(event[\"data\"]))\n",
    "        plt.plot(data, label=f\"Channel {channel}\", **extra_kwargs)\n",
    "    if legend:\n",
    "        plt.legend()\n",
    "    plt.show()"
   ]
  },
  {
   "cell_type": "markdown",
   "metadata": {},
   "source": [
    "## Acquisition Format\n",
    "\n",
    "Acquisitions captured using the Nalu Scientific hardware server use a different data format than legacy acquisitions in order to support higher readout rates and add some failsafe mechanisms\n",
    "\n",
    "```\n",
    "acquisition/\n",
    "├── metadata.yml - Stores board parameters and register values at time of capture\n",
    "├── {n}.bin - One or more \"chunks\" containing raw events stored back-to-back in chronological order. See below for more information\n",
    "├── {n}.idx - Contains information about where in the `.bin` files each event is located. See below for more information\n",
    "├── (pedestals_calibration) - Pedestals calibration data, stored as a Python pickle\n",
    "├── (timing_calibration) - Timing calibration data, stored as a Python pickle\n",
    "└── (adc2mv_calibration) - ADC/mV calibration data, stored as a Python pickle\n",
    "```\n",
    "\n",
    "### Bin File Format\n",
    "Each `.bin` file is referred to as a \"chunk.\" Each chunk is limited to 500 MB and begins with the following header:\n",
    "\n",
    "```rust\n",
    "// Struct is written according to native endianness\n",
    "struct Header {\n",
    "    // Format revision number\n",
    "    version: u16,\n",
    "    // Reserved for future use\n",
    "    _reserved: u16,\n",
    "    // Length of the metadata sector\n",
    "    metadata_sector_length: u32,\n",
    "}\n",
    "```\n",
    "\n",
    "The metadata sector follows the header, and contains a copy of the `metadata.yml` file.\n",
    "\n",
    "### Idx File Format\n",
    "Each `.idx` file is referred to as an \"index file,\" and contains a long list of \"entries\" holding information about where each event is located in the chunk file with the corresponding name. Each entry has the following format:\n",
    "\n",
    "```rust\n",
    "// Struct is written according to native endianness\n",
    "struct IndexEntry {\n",
    "    // Offset in bytes of the event in the chunk.\n",
    "    offset: u32,\n",
    "    // Length of the event\n",
    "    length: u32,\n",
    "}\n",
    "```"
   ]
  },
  {
   "cell_type": "markdown",
   "metadata": {},
   "source": [
    "### Opening Acquisitions\n",
    "\n",
    "This example applies to acquisitions captured using the server. For legacy acquisitions, see the other notebook."
   ]
  },
  {
   "cell_type": "code",
   "execution_count": null,
   "metadata": {},
   "outputs": [],
   "source": [
    "from naluacq import Acquisition"
   ]
  },
  {
   "cell_type": "code",
   "execution_count": null,
   "metadata": {},
   "outputs": [],
   "source": [
    "ACQ_PATH = r\"D:\\NaluData\\2025-02-06 18-17-31.784795\""
   ]
  },
  {
   "cell_type": "code",
   "execution_count": null,
   "metadata": {},
   "outputs": [],
   "source": [
    "acq = Acquisition(root=ACQ_PATH)\n",
    "PEDS = acq.pedestals_calibration[\"data\"]\n",
    "PARAMS = acq.params\n",
    "print(len(acq))"
   ]
  },
  {
   "cell_type": "markdown",
   "metadata": {},
   "source": [
    "Events can be accessed in either raw or parsed form. For most purposes, parsed events are desired. Acquisitions are not loaded into memory because they can be very large. As a consequence, this means they currently are loaded from disk each time. If this is a concern, it is recommended to cache the results."
   ]
  },
  {
   "cell_type": "code",
   "execution_count": null,
   "metadata": {},
   "outputs": [],
   "source": [
    "EVENT_INDEX = 0\n",
    "\n",
    "# Accessing events with the subscript operator will parse the events automatically.\n",
    "# The subscript operator doesn't supports slices.\n",
    "EVENT = acq[EVENT_INDEX]\n",
    "\n",
    "# Missing data field means the event could not be parsed\n",
    "if EVENT.get(\"data\", None) is None:\n",
    "    print(\"Event is corrupted!\")\n",
    "else:\n",
    "    plot_event(EVENT)"
   ]
  },
  {
   "cell_type": "markdown",
   "metadata": {},
   "source": [
    "## Pedestals Subtraction\n",
    "\n",
    "For both acquisition formats, the events stored in the acquisitions are not pedestal-subtracted. To obtain pedestals-subtracted events, the process must be performed manually on the events."
   ]
  },
  {
   "cell_type": "code",
   "execution_count": null,
   "metadata": {},
   "outputs": [],
   "source": [
    "from naludaq.tools.pedestals.pedestals_correcter import PedestalsCorrecter\n",
    "\n",
    "# Fetch an event, pedestals, and params from disk\n",
    "ACQ_PATH = r\"<PATH TO ACQUISITION FOLDER>\"\n",
    "EVENT_INDEX = 0\n",
    "acq = Acquisition(ACQ_PATH)\n",
    "event = acq[EVENT_INDEX]\n",
    "params = acq.params\n",
    "pedestals = acq.pedestals_calibration\n",
    "\n",
    "if pedestals is None:\n",
    "    print(\"Acquisition must have pedestals in order to correct data!\")\n",
    "else:\n",
    "    # Apply correction (in place)\n",
    "    corrector = PedestalsCorrecter(params, pedestals)\n",
    "    corrected_event = corrector.run(event, correct_in_place=True)\n",
    "    plot_event(corrected_event)"
   ]
  },
  {
   "cell_type": "markdown",
   "metadata": {},
   "source": [
    "## Process multiple events in a loop"
   ]
  },
  {
   "cell_type": "code",
   "execution_count": null,
   "metadata": {},
   "outputs": [],
   "source": [
    "from tqdm import tqdm"
   ]
  },
  {
   "cell_type": "code",
   "execution_count": null,
   "metadata": {},
   "outputs": [],
   "source": [
    "from naludaq.tools.pedestals.pedestals_correcter import PedestalsCorrecter\n",
    "\n",
    "# Fetch an event, pedestals, and params from disk\n",
    "ACQ_PATH = r\"<PATH TO ACQUISITION FOLDER>\"\n",
    "EVENT_INDEX = 0\n",
    "acq = Acquisition(ACQ_PATH)\n",
    "event = acq[EVENT_INDEX]\n",
    "params = acq.params\n",
    "pedestals = acq.pedestals_calibration\n",
    "corrector = PedestalsCorrecter(params, pedestals)\n",
    "EVENTS = []\n",
    "for i in tqdm(range(len(acq))):\n",
    "    # Catch bad events, getting parsed events can fail and the iterator stops unexpected.\n",
    "    # Use indexes instead.\n",
    "    try:\n",
    "        evt = acq[i]\n",
    "    except Exception:\n",
    "        print(f\"Event {i}, can't be opened\")\n",
    "    # Apply pedestals correction (in place)\n",
    "    corrected_event = corrector.run(event, correct_in_place=True)\n",
    "\n",
    "    #\n",
    "    # Process the pedestals corrected event here\n",
    "    #\n",
    "\n",
    "    # Store the processed data\n",
    "    EVENTS.append(corrected_event)"
   ]
  }
 ],
 "metadata": {
  "kernelspec": {
   "display_name": "nalu311",
   "language": "python",
   "name": "nalu311"
  },
  "language_info": {
   "codemirror_mode": {
    "name": "ipython",
    "version": 3
   },
   "file_extension": ".py",
   "mimetype": "text/x-python",
   "name": "python",
   "nbconvert_exporter": "python",
   "pygments_lexer": "ipython3",
   "version": "3.11.8"
  },
  "vscode": {
   "interpreter": {
    "hash": "19aafdb373e9c9f5f579aba7283426ef4b21b1116573b1fcfac821e6343cfbff"
   }
  }
 },
 "nbformat": 4,
 "nbformat_minor": 2
}
