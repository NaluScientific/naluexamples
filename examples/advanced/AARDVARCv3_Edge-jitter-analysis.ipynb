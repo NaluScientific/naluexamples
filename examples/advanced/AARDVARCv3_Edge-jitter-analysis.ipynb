{
 "cells": [
  {
   "cell_type": "markdown",
   "id": "51e3cd89-46cb-4c35-8196-cf9e4e1122f0",
   "metadata": {},
   "source": [
    "# Analysis of rising edge jitter for AARDVARC timing performance.\n"
   ]
  },
  {
   "cell_type": "markdown",
   "id": "f2fa8222-e68a-47d5-b039-92d346eaef51",
   "metadata": {},
   "source": [
    "Explanation or way to clean up artifacts"
   ]
  },
  {
   "cell_type": "code",
   "execution_count": null,
   "id": "1e3bf5e4-460b-4416-b56b-fb8f517a4bbe",
   "metadata": {},
   "outputs": [],
   "source": [
    "%load_ext autoreload\n",
    "%autoreload 2"
   ]
  },
  {
   "cell_type": "markdown",
   "id": "f97949df-5ef7-4b67-a855-854cbec5afcf",
   "metadata": {},
   "source": [
    "## Experiment setup\n",
    "\n",
    "Capture data using the external trigger, and make sure the trigger is synchronized with the clock.\n",
    "Capturing clock-synchronized pulses requires the external trigger and the board's internal clock MUST be generated from the same source.\n",
    "\n",
    "The synchronization removes the external sources of jitter and makes it possible to focus on the timing performance of the ASIC.\n",
    "The ASIC triggers on a window-by-window (64 samples) basis, meaning an edge can arrive at any of the 64 sample positions in the window.\n",
    "\n",
    "> **IMPORTANT!** This analysis requires a special clock file and the external clock input to be used!  \n",
    "> The external trigger input and the clock driving the board MUST be derived from the same source."
   ]
  },
  {
   "cell_type": "markdown",
   "id": "8df76468-c0c4-4c39-9a43-3f96bae24516",
   "metadata": {},
   "source": [
    "## 1. Setup/Variables"
   ]
  },
  {
   "cell_type": "code",
   "execution_count": null,
   "id": "1100fc28-f6eb-4129-a3a6-f314afd179ec",
   "metadata": {},
   "outputs": [],
   "source": [
    "import logging\n",
    "\n",
    "logger = None\n",
    "\n",
    "\n",
    "def setup_logger(level=logging.INFO):\n",
    "    \"\"\"Setup a basic logger.\"\"\"\n",
    "    logger = logging.getLogger()\n",
    "    handler = logging.StreamHandler()\n",
    "    handler.setFormatter(\n",
    "        logging.Formatter(\"%(asctime)s %(name)-30s [%(levelname)-6s]: %(message)s\")\n",
    "    )\n",
    "    logger.addHandler(handler)\n",
    "    logger.setLevel(level)\n",
    "    suppress = [\n",
    "        \"naludaq.UART\",\n",
    "        \"naludaq.FTDI\",\n",
    "    ]\n",
    "    for name in suppress:\n",
    "        logging.getLogger(name).setLevel(logging.CRITICAL)\n",
    "    return logger\n",
    "\n",
    "\n",
    "try:\n",
    "    logger.debug(\"logger already setup\")\n",
    "except Exception:\n",
    "    logger = setup_logger()"
   ]
  },
  {
   "cell_type": "markdown",
   "id": "e0cd0814-e429-4b20-afbc-8997259274d5",
   "metadata": {},
   "source": [
    "### Imports"
   ]
  },
  {
   "cell_type": "code",
   "execution_count": null,
   "id": "2aa033b9-3e10-4a35-98bd-dec0ab4cbc78",
   "metadata": {},
   "outputs": [],
   "source": [
    "from naludaq.tools.pedestals.pedestals_correcter import PedestalsCorrecter\n",
    "from tqdm import tqdm"
   ]
  },
  {
   "cell_type": "code",
   "execution_count": null,
   "id": "4a0c3e7e-1069-4a47-aad8-ac88d485f314",
   "metadata": {},
   "outputs": [],
   "source": [
    "from naludaq.backend import DiskAcquisition\n",
    "import matplotlib.pyplot as plt\n",
    "import numpy as np"
   ]
  },
  {
   "cell_type": "code",
   "execution_count": null,
   "id": "7dbe6fad-9f15-4560-af87-79b72e8446e8",
   "metadata": {},
   "outputs": [],
   "source": [
    "import scipy"
   ]
  },
  {
   "cell_type": "markdown",
   "id": "99a4f69b-6e3c-46ad-98cc-a8ca0201c348",
   "metadata": {},
   "source": [
    "## 2. Load data"
   ]
  },
  {
   "cell_type": "markdown",
   "id": "e1666588-1722-43d4-8f00-2972baf68333",
   "metadata": {},
   "source": [
    "### Load pedestals corrected data"
   ]
  },
  {
   "cell_type": "markdown",
   "id": "cb27381e-3807-4b1b-a0c8-7c1c71291e57",
   "metadata": {},
   "source": [
    "Dataset analyzed is located at:   \n",
    "[Dataset @ Nalu Google drive](https://drive.google.com/file/d/1szlbEnt7-hfOcPHfZuQ0G48k-HaDopgu/view?usp=drive_link)"
   ]
  },
  {
   "cell_type": "code",
   "execution_count": null,
   "id": "5891eb7e-8348-4771-9721-5907c4edc411",
   "metadata": {},
   "outputs": [],
   "source": [
    "# Add the acquisition folder as a subfolder in the folder where this notebook is located.\n",
    "# OR give the full path.\n",
    "ACQ_PATH = r\"forNaluData\""
   ]
  },
  {
   "cell_type": "code",
   "execution_count": null,
   "id": "bcef1027-b6c6-492a-8b00-d4f30b8e201d",
   "metadata": {},
   "outputs": [],
   "source": [
    "# Load events into RAM\n",
    "# It's possible to run this on the fly but for simplicity, the dataset is loaded into ram.\n",
    "EVENT_INDEX = 1\n",
    "RAMEVENTS = []\n",
    "with DiskAcquisition(ACQ_PATH) as _acq:\n",
    "    print(\"Board model:\", _acq.params[\"model\"])\n",
    "    print(\"Number of events:\", len(_acq))\n",
    "    corrector = PedestalsCorrecter(_acq.params, _acq.pedestals)\n",
    "    for evt in tqdm(_acq):\n",
    "        corrected_event = corrector.run(evt, correct_in_place=False)\n",
    "        RAMEVENTS.append(corrected_event)"
   ]
  },
  {
   "cell_type": "markdown",
   "id": "acbd5754-ae60-4a3a-abba-7b2069fbfa91",
   "metadata": {},
   "source": [
    "### Select data channel\n",
    "\n",
    "Pulse data captured in one channel."
   ]
  },
  {
   "cell_type": "code",
   "execution_count": null,
   "id": "7446c4cd-9083-4cdf-aabb-f3cbbc222b48",
   "metadata": {},
   "outputs": [],
   "source": [
    "_first_evt = RAMEVENTS[1]"
   ]
  },
  {
   "cell_type": "code",
   "execution_count": null,
   "id": "55a862ad-a878-4b2d-b51f-9c8068aae588",
   "metadata": {},
   "outputs": [],
   "source": [
    "# Check which channels have data in them\n",
    "[i for i, x in enumerate(_first_evt[\"data\"]) if len(x) > 0]"
   ]
  },
  {
   "cell_type": "code",
   "execution_count": null,
   "id": "175908d8-14aa-4a5f-91d8-f7e114d347ac",
   "metadata": {},
   "outputs": [],
   "source": [
    "CHANNEL = 3"
   ]
  },
  {
   "cell_type": "markdown",
   "id": "1742d775-8942-435a-b15e-bfc4047dd0b8",
   "metadata": {},
   "source": [
    "## 3. Analysis"
   ]
  },
  {
   "cell_type": "markdown",
   "id": "cffdb23d-605c-45d6-bc74-4c0cf6b9dc7c",
   "metadata": {},
   "source": [
    "### 3.1 Plot one waveform as a sanity check"
   ]
  },
  {
   "cell_type": "code",
   "execution_count": null,
   "id": "3be6f4dd-a09d-4c0a-a7c2-f7e8d8c1a603",
   "metadata": {},
   "outputs": [],
   "source": [
    "plt.plot(_first_evt[\"data\"][CHANNEL])"
   ]
  },
  {
   "cell_type": "markdown",
   "id": "65ceff87-40e3-4c25-8bb9-b004ee7cf563",
   "metadata": {},
   "source": [
    "### Plot ALL waveforms (since population size is small)"
   ]
  },
  {
   "cell_type": "code",
   "execution_count": null,
   "id": "d4732c26-629f-4b57-97d9-b25c335fd456",
   "metadata": {},
   "outputs": [],
   "source": [
    "plt.figure(figsize=(12, 8))\n",
    "for x in RAMEVENTS:\n",
    "    plt.plot(x[\"data\"][CHANNEL], alpha=0.3)\n",
    "plt.grid()\n",
    "plt.title(\"All overlapping events\")\n",
    "# plt.xlim(64,196)\n",
    "plt.xlabel(\"sample\")\n",
    "plt.ylabel(\"ADC value\")\n",
    "plt.show()"
   ]
  },
  {
   "cell_type": "markdown",
   "id": "eecbb500-3718-47c0-a73e-079b798ee3f7",
   "metadata": {},
   "source": [
    "## 3. Filter events"
   ]
  },
  {
   "cell_type": "markdown",
   "id": "66b6fa99-7856-4b4a-b1f4-5ccabdcc85bd",
   "metadata": {},
   "source": [
    "1. Filter downward going broken samples\n",
    "2. Remove noisy waveform (first)\n",
    "\n",
    "Using a negative threshold of 200"
   ]
  },
  {
   "cell_type": "code",
   "execution_count": null,
   "id": "ffc14a6d-4d88-440c-9da4-6068a142e92f",
   "metadata": {},
   "outputs": [],
   "source": [
    "def filter_events(events, channel, negative_threshold=200):\n",
    "    \"\"\"Filter \"bad\" events\n",
    "\n",
    "    This is a custom filter removing data with visual defects found by plotting.\n",
    "    It will remove events with:\n",
    "    - large levels of noise\n",
    "    - Negative going spikes\n",
    "\n",
    "    Args:\n",
    "        events: list like containing the events\n",
    "        channel: the channel(s) to evaluate\n",
    "        negative_threshold: maximum negative signal before filtering an event.\n",
    "\n",
    "    Returns:\n",
    "        output as a list of events, peaks as an equally long list of peak values.\n",
    "    \"\"\"\n",
    "    neg_threshold = -200\n",
    "    h_max = np.array([np.max(e[\"data\"][channel]) for e in events])\n",
    "    h_min = np.array([np.min(e[\"data\"][channel]) for e in events])\n",
    "    output = [events[i] for i in np.where(h_min > -200)[0]]\n",
    "    peaks = h_max[np.where(h_min > neg_threshold)[0]]\n",
    "    return output, peaks"
   ]
  },
  {
   "cell_type": "code",
   "execution_count": null,
   "id": "4a7ad53b-e749-408b-875d-0a2aa9719d03",
   "metadata": {},
   "outputs": [],
   "source": [
    "EVENTS, PEAKS = filter_events(RAMEVENTS, CHANNEL)"
   ]
  },
  {
   "cell_type": "markdown",
   "id": "fbc3f2b1-d128-49d8-8905-8782bd4c5949",
   "metadata": {},
   "source": [
    "### Plot all AFTER filter"
   ]
  },
  {
   "cell_type": "code",
   "execution_count": null,
   "id": "bfa78c2a-cef7-482b-be09-482cca4afe0a",
   "metadata": {},
   "outputs": [],
   "source": [
    "plt.figure(figsize=(12, 8))\n",
    "for x in EVENTS:\n",
    "    plt.plot(x[\"data\"][CHANNEL], alpha=0.3)\n",
    "plt.grid()\n",
    "plt.title(\"All overlapping FILTERED events\")\n",
    "plt.xticks(range(0, 320, 64))\n",
    "plt.yticks(range(-50, 700, 50))\n",
    "# plt.xlim(64,196)\n",
    "plt.xlabel(\"Sample\")\n",
    "plt.ylabel(\"ADC value\")\n",
    "plt.show()"
   ]
  },
  {
   "cell_type": "markdown",
   "id": "baac1a3c-0df7-4d21-b99e-b22a9976afed",
   "metadata": {},
   "source": [
    "## Plot peak\n",
    "\n",
    "Since the triggers are clock syncronized with the board the peaks should overlap.\n"
   ]
  },
  {
   "cell_type": "markdown",
   "id": "c400d2bf-a387-4014-811d-3963ab4794fd",
   "metadata": {},
   "source": [
    "### Plot peak\n",
    "\n",
    "See if there is a pattern in the noise at the peaks."
   ]
  },
  {
   "cell_type": "code",
   "execution_count": null,
   "id": "472e1743-b1c5-47ab-8821-da6297f3676e",
   "metadata": {},
   "outputs": [],
   "source": [
    "plt.figure(figsize=(12, 8))\n",
    "for x in EVENTS[100:120]:\n",
    "    plt.plot(x[\"data\"][3], alpha=0.3)\n",
    "plt.grid()\n",
    "plt.title(\"20 overlapping peaks\")\n",
    "plt.xlim(135, 145)\n",
    "plt.ylim(560, 650)\n",
    "plt.show()"
   ]
  },
  {
   "cell_type": "code",
   "execution_count": null,
   "id": "26918bbf-d604-4c8e-99eb-bc949dfeaa8b",
   "metadata": {},
   "outputs": [],
   "source": [
    "plt.figure(figsize=(12, 8))\n",
    "for x in EVENTS[100:120]:\n",
    "    plt.plot(x[\"data\"][3], alpha=0.3)\n",
    "plt.grid()\n",
    "plt.title(\"20 events, 1 window before peak\")\n",
    "plt.xlim(64, 128)\n",
    "plt.ylim(-30, 0)\n",
    "plt.show()"
   ]
  },
  {
   "cell_type": "code",
   "execution_count": null,
   "id": "473999c8-8afa-4981-90db-6599ddda12db",
   "metadata": {},
   "outputs": [],
   "source": [
    "plt.figure(figsize=(12, 8))\n",
    "for x in EVENTS[100:120]:\n",
    "    plt.plot(x[\"data\"][3], alpha=0.3)\n",
    "plt.grid()\n",
    "plt.title(\"20 events, first window\")\n",
    "plt.xlim(0, 64)\n",
    "plt.ylim(-30, 0)\n",
    "plt.show()"
   ]
  },
  {
   "cell_type": "markdown",
   "id": "8b237d61-159e-4615-ac10-d1b061288007",
   "metadata": {},
   "source": [
    "## Rising edge jitter analysis\n",
    "\n",
    "Check the jitter of the rising edge\n",
    "\n",
    "1. calculate threshold value based on peak height\n",
    "2. find crossing based on interpolation\n",
    "3. Evaluate std deviation of the crossing compared to mean x-axis crossing (sample point)"
   ]
  },
  {
   "cell_type": "code",
   "execution_count": null,
   "id": "00b4650f-e00f-4e40-8c64-31fedacc6b8b",
   "metadata": {},
   "outputs": [],
   "source": [
    "CHANNEL = 3"
   ]
  },
  {
   "cell_type": "markdown",
   "id": "10f0dbbc-abb4-410e-9aa1-ef07311bb324",
   "metadata": {},
   "source": [
    "### Peak height as function of time"
   ]
  },
  {
   "cell_type": "code",
   "execution_count": null,
   "id": "2c760808-0355-4288-b72f-164aa8e591c9",
   "metadata": {},
   "outputs": [],
   "source": [
    "plt.figure(figsize=(12, 8))\n",
    "plt.plot(PEAKS, marker=\"x\", linestyle=\"\", alpha=0.4)\n",
    "plt.title(\"Peak height as a function of time (event number)\")\n",
    "plt.xlabel(\"Event num\")\n",
    "plt.ylabel(\"ADC value @ peak (counts)\")\n",
    "plt.grid()\n",
    "plt.show()"
   ]
  },
  {
   "cell_type": "markdown",
   "id": "325fe4c2-a7d8-40bc-a914-7bc3fb78d5ab",
   "metadata": {},
   "source": [
    "### Baseline as function of time"
   ]
  },
  {
   "cell_type": "code",
   "execution_count": null,
   "id": "f084465a-b8be-4327-acc6-8f88ed62fc9c",
   "metadata": {},
   "outputs": [],
   "source": [
    "def find_baseline(event):\n",
    "    return np.mean(event[\"data\"][CHANNEL][0:64])"
   ]
  },
  {
   "cell_type": "code",
   "execution_count": null,
   "id": "254e7b68-b4ef-4796-bdcd-91119e96560b",
   "metadata": {},
   "outputs": [],
   "source": [
    "BASELINES = [find_baseline(x) for x in EVENTS]"
   ]
  },
  {
   "cell_type": "code",
   "execution_count": null,
   "id": "e44b0ff5-d0f4-4cb3-9c7e-1b5710433b31",
   "metadata": {},
   "outputs": [],
   "source": [
    "plt.figure(figsize=(12, 8))\n",
    "plt.plot(BASELINES, marker=\"x\", linestyle=\"\", alpha=0.4)\n",
    "plt.title(\"Baselines as a function of time (event number)\")\n",
    "plt.xlabel(\"Event num\")\n",
    "plt.ylabel(\"mean of samples 0:64 (counts)\")\n",
    "plt.grid()\n",
    "plt.show()"
   ]
  },
  {
   "cell_type": "markdown",
   "id": "572d148d-e792-47be-a6e9-cc64abafb532",
   "metadata": {},
   "source": [
    "### Baselines in the second window as function of time"
   ]
  },
  {
   "cell_type": "code",
   "execution_count": null,
   "id": "bbb650c1-903e-420d-b143-770cebee360d",
   "metadata": {},
   "outputs": [],
   "source": [
    "def find_baseline2(event):\n",
    "    return np.mean(event[\"data\"][CHANNEL][64:110])"
   ]
  },
  {
   "cell_type": "code",
   "execution_count": null,
   "id": "34288a39-9507-477e-b16e-60f9c613dc62",
   "metadata": {},
   "outputs": [],
   "source": [
    "BASELINES2 = [find_baseline2(x) for x in EVENTS]"
   ]
  },
  {
   "cell_type": "code",
   "execution_count": null,
   "id": "1f39d479-1e09-4cac-9346-aba9ffca6b81",
   "metadata": {},
   "outputs": [],
   "source": [
    "plt.figure(figsize=(12, 8))\n",
    "plt.plot(BASELINES2, marker=\"x\", linestyle=\"\", alpha=0.4)\n",
    "plt.title(\"Baselines as a function of time (event number)\")\n",
    "plt.xlabel(\"Event num\")\n",
    "plt.ylabel(\"mean of samples 70:110 (counts)\")\n",
    "plt.grid()\n",
    "plt.show()"
   ]
  },
  {
   "cell_type": "markdown",
   "id": "107e14f6-a3eb-47a3-bd21-c5eac8b3a725",
   "metadata": {},
   "source": [
    "### Peak height as function of time"
   ]
  },
  {
   "cell_type": "code",
   "execution_count": null,
   "id": "75ff5973-474d-4cfc-90c9-77c604161066",
   "metadata": {},
   "outputs": [],
   "source": [
    "HEIGHTS = [x - y for x, y in zip(PEAKS, BASELINES)]"
   ]
  },
  {
   "cell_type": "code",
   "execution_count": null,
   "id": "d3544c31-29ba-4102-8e43-bebdf129f2be",
   "metadata": {},
   "outputs": [],
   "source": [
    "plt.figure(figsize=(12, 8))\n",
    "plt.plot(HEIGHTS, marker=\"x\", linestyle=\"\", alpha=0.4)\n",
    "plt.title(\"Peak heights (peak - baseline) as a function of time (event number)\")\n",
    "plt.xlabel(\"Event num\")\n",
    "plt.ylabel(\"peak height (counts)\")\n",
    "plt.grid()\n",
    "plt.show()"
   ]
  },
  {
   "cell_type": "markdown",
   "id": "e0d1f3bf-59b5-44f7-baab-09b5ebac08fe",
   "metadata": {},
   "source": [
    "### Thresholds @ half max"
   ]
  },
  {
   "cell_type": "code",
   "execution_count": null,
   "id": "eeef39d8-75f6-4e41-8985-dd62c613f573",
   "metadata": {},
   "outputs": [],
   "source": [
    "THRESHOLDS = [h * 0.5 + b for h, b in zip(HEIGHTS, BASELINES)]"
   ]
  },
  {
   "cell_type": "code",
   "execution_count": null,
   "id": "dea3704d-6a83-4bc6-ad5d-be395079b695",
   "metadata": {},
   "outputs": [],
   "source": [
    "plt.figure(figsize=(12, 8))\n",
    "plt.plot(THRESHOLDS, marker=\"x\", linestyle=\"\", alpha=0.4)\n",
    "plt.title(\"THRESHOLDS (peakheight*0.5 + baseline) as a function of time (event number)\")\n",
    "plt.xlabel(\"Event num\")\n",
    "plt.ylabel(\"Threshold value (counts)\")\n",
    "plt.grid()\n",
    "plt.show()"
   ]
  },
  {
   "cell_type": "markdown",
   "id": "6f7d3121-ee57-4917-b631-22a8e6604e1d",
   "metadata": {},
   "source": [
    "### Thresholds @ 30% max"
   ]
  },
  {
   "cell_type": "code",
   "execution_count": null,
   "id": "37c11d1a-74df-4956-a735-371df1b58f50",
   "metadata": {},
   "outputs": [],
   "source": [
    "THRESHOLDS = [h * 0.3 + b for h, b in zip(HEIGHTS, BASELINES)]"
   ]
  },
  {
   "cell_type": "code",
   "execution_count": null,
   "id": "608e035e-e470-441f-84ac-14cc2fd25eb8",
   "metadata": {},
   "outputs": [],
   "source": [
    "plt.figure(figsize=(12, 8))\n",
    "plt.plot(THRESHOLDS, marker=\"x\", linestyle=\"\", alpha=0.4)\n",
    "plt.title(\n",
    "    \"THRESHOLDS (peakheight * 0.3 + baseline) as a function of time (event number)\"\n",
    ")\n",
    "plt.xlabel(\"Event num\")\n",
    "plt.ylabel(\"Threshold value (counts)\")\n",
    "plt.grid()\n",
    "plt.show()"
   ]
  },
  {
   "cell_type": "markdown",
   "id": "78796ec8-5816-492a-be2c-33b2c62ba6ec",
   "metadata": {},
   "source": [
    "### Plot threshold"
   ]
  },
  {
   "cell_type": "code",
   "execution_count": null,
   "id": "87e3a272-2117-4391-9242-1eeaa7c59ea7",
   "metadata": {},
   "outputs": [],
   "source": [
    "evtnum = 300\n",
    "plt.figure(figsize=(12, 8))\n",
    "plt.plot(EVENTS[evtnum][\"data\"][CHANNEL], marker=\"x\", linestyle=\"-\", alpha=0.4)\n",
    "plt.plot(\n",
    "    [0, len(EVENTS[evtnum][\"data\"][CHANNEL])],\n",
    "    [THRESHOLDS[evtnum], THRESHOLDS[evtnum]],\n",
    "    linestyle=\"--\",\n",
    "    alpha=0.4,\n",
    ")\n",
    "plt.title(\n",
    "    \"THRESHOLDS (peakheight * 0.5 + baseline) as a function of time (event number)\"\n",
    ")\n",
    "plt.xlabel(\"Event num\")\n",
    "plt.ylabel(\"ADC value (counts)\")\n",
    "plt.grid()\n",
    "plt.show()"
   ]
  },
  {
   "cell_type": "code",
   "execution_count": null,
   "id": "a8f60f20-00b1-4aee-a6e1-ab96ce88770a",
   "metadata": {},
   "outputs": [],
   "source": [
    "evtnum = 300\n",
    "plt.figure(figsize=(12, 8))\n",
    "plt.plot(EVENTS[evtnum][\"data\"][CHANNEL], marker=\"x\", linestyle=\"-\", alpha=0.4)\n",
    "plt.plot(\n",
    "    [0, len(EVENTS[evtnum][\"data\"][CHANNEL])],\n",
    "    [THRESHOLDS[evtnum], THRESHOLDS[evtnum]],\n",
    "    linestyle=\"--\",\n",
    "    alpha=0.4,\n",
    ")\n",
    "plt.title(\n",
    "    \"THRESHOLDS (peakheight * 0.5 + baseline) as a function of time (event number)\"\n",
    ")\n",
    "plt.xlabel(\"Event num\")\n",
    "plt.ylabel(\"ADC value (counts)\")\n",
    "plt.grid()\n",
    "plt.xlim(130, 140)\n",
    "plt.show()"
   ]
  },
  {
   "cell_type": "markdown",
   "id": "1a899b27-e6ad-4521-b2ab-8de46405ae4a",
   "metadata": {},
   "source": [
    "### Interpolations"
   ]
  },
  {
   "cell_type": "code",
   "execution_count": null,
   "id": "1a3776a2-8f0a-493a-adf2-963f69777dec",
   "metadata": {},
   "outputs": [],
   "source": [
    "def interpolate(event: dict, threshold: int, channel: int = 3):\n",
    "    \"\"\"Assumes there is an intersection\n",
    "\n",
    "    Args:\n",
    "        event: single event\n",
    "        threshold: int value of threshold\n",
    "        channel: single channel\n",
    "\n",
    "    Returns:\n",
    "        x-axis intersection as a float\n",
    "    \"\"\"\n",
    "    curve = event[\"data\"][channel]\n",
    "    x2 = np.where((curve - threshold) > 0)[0][0]\n",
    "    x1 = x2 - 1\n",
    "    y1 = curve[x1]\n",
    "    y2 = curve[x2]\n",
    "    xi = x1 + ((threshold - y1) / (y2 - y1))\n",
    "    return xi"
   ]
  },
  {
   "cell_type": "markdown",
   "id": "8e074f96-2b06-4967-872e-b921e35a5383",
   "metadata": {},
   "source": [
    "### Plot histogram over intersections @ half max"
   ]
  },
  {
   "cell_type": "code",
   "execution_count": null,
   "id": "6b3d10f9-4585-436e-8fa8-1145337516c5",
   "metadata": {},
   "outputs": [],
   "source": [
    "THRESHOLDS = [h * 0.5 + b for h, b in zip(HEIGHTS, BASELINES)]"
   ]
  },
  {
   "cell_type": "code",
   "execution_count": null,
   "id": "7e7ec675-5b06-431c-a6ba-51add8ef642b",
   "metadata": {},
   "outputs": [],
   "source": [
    "INTERPS = []\n",
    "for _evt, _t in zip(EVENTS, THRESHOLDS):\n",
    "    INTERPS.append(interpolate(_evt, _t))"
   ]
  },
  {
   "cell_type": "code",
   "execution_count": null,
   "id": "4888f72e-9f9a-451b-835c-12fad790cfa4",
   "metadata": {},
   "outputs": [],
   "source": [
    "n_bins = 100\n",
    "plt.figure(figsize=(12, 8))\n",
    "plt.hist(INTERPS, bins=n_bins)\n",
    "\n",
    "# Add sigma and mean lines\n",
    "_mean = np.mean(INTERPS)\n",
    "_std = np.std(INTERPS)\n",
    "_xlabels = [round(_mean, 3)]\n",
    "for i in range(1, 4):  # 1-sigma, 2-sigma, 3-sigma\n",
    "    plt.axvline(\n",
    "        _mean + i * _std, color=\"red\", linestyle=\"--\", linewidth=1, label=f\"+{i}σ\"\n",
    "    )\n",
    "    plt.axvline(\n",
    "        _mean - i * _std, color=\"red\", linestyle=\"--\", linewidth=1, label=f\"-{i}σ\"\n",
    "    )\n",
    "    _xlabels.append(round(_mean + i * _std, 3))\n",
    "    _xlabels.append(round(_mean - i * _std, 3))\n",
    "plt.axvline(_mean, color=\"black\", linestyle=\":\", linewidth=2, label=\"Mean\")\n",
    "plt.xticks(_xlabels)\n",
    "\n",
    "plt.xlabel(\"intersect x-value\")\n",
    "plt.ylabel(\"amount\")\n",
    "plt.ylim(0, 1250)\n",
    "# plt.grid()\n",
    "plt.title(\"Distribution of intersections of raising edge, dynamic threshold @ half max\")"
   ]
  },
  {
   "cell_type": "markdown",
   "id": "10051000-a9ed-4ccd-8e69-6e5e20911a2a",
   "metadata": {},
   "source": [
    "### Plot histogram over intersections @ 30%"
   ]
  },
  {
   "cell_type": "code",
   "execution_count": null,
   "id": "0500d9a0-f8b3-4c29-8623-022f3b26e59e",
   "metadata": {},
   "outputs": [],
   "source": [
    "THRESHOLDS = [h * 0.3 + b for h, b in zip(HEIGHTS, BASELINES)]"
   ]
  },
  {
   "cell_type": "code",
   "execution_count": null,
   "id": "11081574-9f73-4bda-a3dd-1ae34d497bd4",
   "metadata": {},
   "outputs": [],
   "source": [
    "INTERPS = []\n",
    "for _evt, _t in zip(EVENTS, THRESHOLDS):\n",
    "    INTERPS.append(interpolate(_evt, _t))"
   ]
  },
  {
   "cell_type": "code",
   "execution_count": null,
   "id": "b0373e30-31b6-4677-ac70-818a3f34eeec",
   "metadata": {},
   "outputs": [],
   "source": [
    "evtnum = 300\n",
    "plt.figure(figsize=(12, 8))\n",
    "plt.plot(EVENTS[evtnum][\"data\"][CHANNEL], marker=\"x\", linestyle=\"-\", alpha=0.4)\n",
    "plt.plot(\n",
    "    [0, len(EVENTS[evtnum][\"data\"][CHANNEL])],\n",
    "    [THRESHOLDS[evtnum], THRESHOLDS[evtnum]],\n",
    "    linestyle=\"--\",\n",
    "    alpha=0.4,\n",
    ")\n",
    "plt.title(\n",
    "    \"THRESHOLDS (peakheight * 0.5 + baseline) as a function of time (event number)\"\n",
    ")\n",
    "plt.xlabel(\"Event num\")\n",
    "plt.ylabel(\"mean of samples 0:64\")\n",
    "plt.grid()\n",
    "plt.show()"
   ]
  },
  {
   "cell_type": "code",
   "execution_count": null,
   "id": "f4af08fd-f3cf-411d-8b5d-81ac09d63bf8",
   "metadata": {},
   "outputs": [],
   "source": [
    "n_bins = 100\n",
    "plt.figure(figsize=(12, 8))\n",
    "plt.hist(INTERPS, bins=n_bins)\n",
    "\n",
    "# Add sigma and mean lines\n",
    "_mean = np.mean(INTERPS)\n",
    "_std = np.std(INTERPS)\n",
    "_xlabels = [round(_mean, 3)]\n",
    "for i in range(1, 4):  # 1-sigma, 2-sigma, 3-sigma\n",
    "    plt.axvline(\n",
    "        _mean + i * _std, color=\"red\", linestyle=\"--\", linewidth=1, label=f\"+{i}σ\"\n",
    "    )\n",
    "    plt.axvline(\n",
    "        _mean - i * _std, color=\"red\", linestyle=\"--\", linewidth=1, label=f\"-{i}σ\"\n",
    "    )\n",
    "    _xlabels.append(round(_mean + i * _std, 3))\n",
    "    _xlabels.append(round(_mean - i * _std, 3))\n",
    "plt.axvline(_mean, color=\"black\", linestyle=\":\", linewidth=2, label=\"Mean\")\n",
    "plt.xticks(_xlabels)\n",
    "plt.ylim(0, 1250)\n",
    "\n",
    "plt.xlabel(\"intersect x-value\")\n",
    "plt.ylabel(\"amount\")\n",
    "# plt.grid()\n",
    "plt.title(\"Distribution of intersections of raising edge, dynamic threshold @ 30%\")"
   ]
  },
  {
   "cell_type": "markdown",
   "id": "c3699bff-a533-4cf5-8fa4-c0349e8f61fc",
   "metadata": {},
   "source": [
    "### Plot fixed threshold @ 300"
   ]
  },
  {
   "cell_type": "code",
   "execution_count": null,
   "id": "bdcb2799-3f38-404d-b7f2-cdcde5af5da0",
   "metadata": {},
   "outputs": [],
   "source": [
    "INTERPS = []\n",
    "for _evt in EVENTS:\n",
    "    INTERPS.append(interpolate(_evt, 300))"
   ]
  },
  {
   "cell_type": "code",
   "execution_count": null,
   "id": "25f36738-e4a9-43b3-9682-cad1367a0a52",
   "metadata": {},
   "outputs": [],
   "source": [
    "n_bins = 100\n",
    "plt.figure(figsize=(12, 8))\n",
    "plt.hist(INTERPS, bins=n_bins)\n",
    "\n",
    "# Add sigma and mean lines\n",
    "_mean = np.mean(INTERPS)\n",
    "_std = np.std(INTERPS)\n",
    "_xlabels = [round(_mean, 3)]\n",
    "for i in range(1, 4):  # 1-sigma, 2-sigma, 3-sigma\n",
    "    plt.axvline(\n",
    "        _mean + i * _std, color=\"red\", linestyle=\"--\", linewidth=1, label=f\"+{i}σ\"\n",
    "    )\n",
    "    plt.axvline(\n",
    "        _mean - i * _std, color=\"red\", linestyle=\"--\", linewidth=1, label=f\"-{i}σ\"\n",
    "    )\n",
    "    _xlabels.append(round(_mean + i * _std, 3))\n",
    "    _xlabels.append(round(_mean - i * _std, 3))\n",
    "plt.axvline(_mean, color=\"black\", linestyle=\":\", linewidth=2, label=\"Mean\")\n",
    "plt.xticks(_xlabels)\n",
    "plt.ylim(0, 1250)\n",
    "\n",
    "plt.xlabel(\"intersect x-value\")\n",
    "plt.ylabel(\"amount\")\n",
    "plt.title(\"Distribution of intersections of raising edge, fixed threshold @ 300\")"
   ]
  },
  {
   "cell_type": "markdown",
   "id": "72863177-8812-41b4-9832-aa6dc2098caa",
   "metadata": {},
   "source": [
    "### Plot fixed threshold @ 200"
   ]
  },
  {
   "cell_type": "code",
   "execution_count": null,
   "id": "11ea174f-3840-4b7f-859f-d9114eeb9f9c",
   "metadata": {},
   "outputs": [],
   "source": [
    "INTERPS = []\n",
    "for _evt in EVENTS:\n",
    "    INTERPS.append(interpolate(_evt, 200))"
   ]
  },
  {
   "cell_type": "code",
   "execution_count": null,
   "id": "97a8c652-850e-4acb-a3ba-112a682acbc0",
   "metadata": {},
   "outputs": [],
   "source": [
    "n_bins = 100\n",
    "plt.figure(figsize=(12, 8))\n",
    "plt.hist(INTERPS, bins=n_bins)\n",
    "\n",
    "# Add sigma and mean lines\n",
    "_mean = np.mean(INTERPS)\n",
    "_std = np.std(INTERPS)\n",
    "_xlabels = [round(_mean, 3)]\n",
    "for i in range(1, 4):  # 1-sigma, 2-sigma, 3-sigma\n",
    "    plt.axvline(\n",
    "        _mean + i * _std, color=\"red\", linestyle=\"--\", linewidth=1, label=f\"+{i}σ\"\n",
    "    )\n",
    "    plt.axvline(\n",
    "        _mean - i * _std, color=\"red\", linestyle=\"--\", linewidth=1, label=f\"-{i}σ\"\n",
    "    )\n",
    "    _xlabels.append(round(_mean + i * _std, 3))\n",
    "    _xlabels.append(round(_mean - i * _std, 3))\n",
    "plt.axvline(_mean, color=\"black\", linestyle=\":\", linewidth=2, label=\"Mean\")\n",
    "plt.xticks(_xlabels)\n",
    "plt.ylim(0, 1250)\n",
    "\n",
    "plt.xlabel(\"intersect x-value\")\n",
    "plt.ylabel(\"amount\")\n",
    "plt.title(\"Distribution of intersections of raising edge, fixed threshold @ 200\")"
   ]
  },
  {
   "cell_type": "code",
   "execution_count": null,
   "id": "a23c8736-42a6-4845-84f4-578f2888cbed",
   "metadata": {},
   "outputs": [],
   "source": []
  },
  {
   "cell_type": "markdown",
   "id": "f4b28454-9b2e-498a-aa38-c7f487097887",
   "metadata": {},
   "source": [
    "### Plot peaks, convolution\n",
    "\n",
    "Test using convolution to cleanup noise on baseline and peak.  \n",
    "Idea is to stabilize the values and get a better defined rising edge."
   ]
  },
  {
   "cell_type": "code",
   "execution_count": null,
   "id": "8b07b494-fefc-41fb-a925-c5a38e9f7a6c",
   "metadata": {},
   "outputs": [],
   "source": [
    "plt.figure(figsize=(12, 8))\n",
    "carrs = [\n",
    "    np.array([0.1, 0.2, 0.4, 0.2, 0.1]),\n",
    "    np.array([0.2, 0.2, 0.2, 0.2, 0.2]),\n",
    "    np.array([0.05, 0.2, 0.5, 0.2, 0.05]),\n",
    "    np.array([0.15, 0.2, 0.3, 0.2, 0.15]),\n",
    "    np.array([0.15, 0.7, 0.15]),\n",
    "]\n",
    "\n",
    "en = 104\n",
    "for x in EVENTS[en : en + 1]:\n",
    "    in1 = x[\"data\"][CHANNEL]\n",
    "    for i, carr in enumerate(carrs):\n",
    "        cevt = scipy.signal.fftconvolve(in1, carr)\n",
    "        plt.plot(cevt[(len(carr) // 2) :], alpha=0.5, marker=\"x\", label=f\"kern: {i+1}\")\n",
    "    plt.plot(in1, color=\"black\", linestyle=\"--\", alpha=0.5, label=\"original\")\n",
    "plt.grid()\n",
    "plt.title(\"Test convolut overlapping peaks\")\n",
    "plt.xlim(135, 145)\n",
    "plt.ylim(560, 630)\n",
    "plt.legend()\n",
    "plt.show()"
   ]
  },
  {
   "cell_type": "markdown",
   "id": "3855f084-1a42-4064-9618-37e9958471a3",
   "metadata": {},
   "source": [
    "### Effect of convulution, baseline"
   ]
  },
  {
   "cell_type": "code",
   "execution_count": null,
   "id": "711570ba-41d6-458c-8ecd-e579078ae6bb",
   "metadata": {},
   "outputs": [],
   "source": [
    "plt.figure(figsize=(12, 8))\n",
    "carrs = [\n",
    "    np.array([0.1, 0.2, 0.4, 0.2, 0.1]),\n",
    "    np.array([0.2, 0.2, 0.2, 0.2, 0.2]),\n",
    "    np.array([0.05, 0.2, 0.5, 0.2, 0.05]),\n",
    "    np.array([0.15, 0.2, 0.3, 0.2, 0.15]),\n",
    "    np.array([0.15, 0.7, 0.15]),\n",
    "]\n",
    "\n",
    "en = 109\n",
    "for x in EVENTS[en : en + 1]:\n",
    "    in1 = x[\"data\"][CHANNEL]\n",
    "    for i, carr in enumerate(carrs):\n",
    "        cevt = scipy.signal.fftconvolve(in1, carr)\n",
    "        plt.plot(cevt[(len(carr) // 2) :], alpha=0.5, marker=\"x\", label=f\"kern: {i+1}\")\n",
    "    plt.plot(in1, color=\"black\", linestyle=\"--\", alpha=0.5)\n",
    "plt.grid()\n",
    "plt.title(\"Test convolv, baseline\")\n",
    "plt.xlim(0, 64)\n",
    "plt.ylim(-22, -12)\n",
    "plt.legend()\n",
    "plt.show()"
   ]
  },
  {
   "cell_type": "markdown",
   "id": "90990471-b39c-48b9-af46-73332914596d",
   "metadata": {},
   "source": [
    "### Effect of convolution, rising edge"
   ]
  },
  {
   "cell_type": "code",
   "execution_count": null,
   "id": "24a8890b-d1ee-41bf-8659-55f42dde60d4",
   "metadata": {},
   "outputs": [],
   "source": [
    "plt.figure(figsize=(6, 12))\n",
    "carrs = [\n",
    "    np.array([0.1, 0.2, 0.4, 0.2, 0.1]),\n",
    "    np.array([0.2, 0.2, 0.2, 0.2, 0.2]),\n",
    "    np.array([0.05, 0.2, 0.5, 0.2, 0.05]),\n",
    "    np.array([0.15, 0.2, 0.3, 0.2, 0.15]),\n",
    "    np.array([0.15, 0.7, 0.15]),\n",
    "]\n",
    "\n",
    "en = 109\n",
    "for x in EVENTS[en : en + 1]:\n",
    "    in1 = x[\"data\"][CHANNEL]\n",
    "    for i, carr in enumerate(carrs):\n",
    "        cevt = scipy.signal.fftconvolve(in1, carr)\n",
    "        plt.plot(cevt[(len(carr) // 2) :], alpha=0.5, marker=\"x\", label=f\"kern: {i+1}\")\n",
    "    plt.plot(in1, color=\"black\", linestyle=\"--\", alpha=0.5)\n",
    "plt.grid()\n",
    "plt.title(\"Test convolv rising edge\")\n",
    "plt.xlim(125, 140)\n",
    "plt.ylim(0, 600)\n",
    "plt.legend()\n",
    "plt.show()"
   ]
  },
  {
   "cell_type": "markdown",
   "id": "a6db9bce-11df-46c1-9dc1-9bd683a485d9",
   "metadata": {},
   "source": [
    "## Bin data based on window labels\n",
    "The data seems dependent on window location, bin data based on window number at intersection."
   ]
  },
  {
   "cell_type": "markdown",
   "id": "5d977438-11b1-48b2-a1d0-5715e966b8f0",
   "metadata": {},
   "source": [
    "### Redo half max but bin the data based on window where crossing happens"
   ]
  },
  {
   "cell_type": "markdown",
   "id": "962928af-73e8-4bcd-b6e6-feaf4c297966",
   "metadata": {},
   "source": [
    "#### Find crossing window labels"
   ]
  },
  {
   "cell_type": "code",
   "execution_count": null,
   "id": "537d5688-405e-4a61-8f0d-5f7c1aca3d6f",
   "metadata": {},
   "outputs": [],
   "source": [
    "def find_baseline(event):\n",
    "    return np.mean(event[\"data\"][CHANNEL][0:64])"
   ]
  },
  {
   "cell_type": "code",
   "execution_count": null,
   "id": "a4239a9e-a0f9-4a8e-a123-27e15826068b",
   "metadata": {},
   "outputs": [],
   "source": [
    "BASELINES = [find_baseline(x) for x in EVENTS]"
   ]
  },
  {
   "cell_type": "code",
   "execution_count": null,
   "id": "e8e9938b-38ff-49f0-8ac6-2250c1401804",
   "metadata": {},
   "outputs": [],
   "source": [
    "THRESHOLDS = [h * 0.5 + b for h, b in zip(HEIGHTS, BASELINES)]"
   ]
  },
  {
   "cell_type": "code",
   "execution_count": null,
   "id": "e71c91bb-7e99-4b3d-b063-2a1c8e156ba4",
   "metadata": {},
   "outputs": [],
   "source": [
    "from collections import defaultdict\n",
    "\n",
    "INTERPS = defaultdict(list)\n",
    "for _evt, _t in zip(EVENTS, THRESHOLDS):\n",
    "    _i = interpolate(_evt, _t)\n",
    "    loc_win = int(_i // 64)\n",
    "    thresh_lbl = _evt[\"window_labels\"][CHANNEL][loc_win]\n",
    "    INTERPS[thresh_lbl].append(_i)"
   ]
  },
  {
   "cell_type": "code",
   "execution_count": null,
   "id": "765a8778-219b-4a6e-83cd-c6bbe019323a",
   "metadata": {},
   "outputs": [],
   "source": [
    "plt.figure(figsize=(12, 8))\n",
    "plt.bar(INTERPS.keys(), [len(x) for k, x in INTERPS.items()])\n",
    "plt.title(\"Data amount at window locations\")\n",
    "plt.xlabel(\"windowlabel\")\n",
    "plt.ylabel(\"amount\")"
   ]
  },
  {
   "cell_type": "code",
   "execution_count": null,
   "id": "80c151fb-b3fb-4b39-9800-f9cbb7a1a2c4",
   "metadata": {},
   "outputs": [],
   "source": [
    "def plot_hist(window, interps):\n",
    "    n_bins = 50\n",
    "    plt.figure(figsize=(12, 8))\n",
    "    plt.hist(interps, bins=n_bins)\n",
    "\n",
    "    # Add sigma and mean lines\n",
    "    _mean = np.mean(interps)\n",
    "    _std = np.std(interps)\n",
    "    _xlabels = [round(_mean, 3)]\n",
    "    for i in range(1, 4):  # 1-sigma, 2-sigma, 3-sigma\n",
    "        plt.axvline(\n",
    "            _mean + i * _std, color=\"red\", linestyle=\"--\", linewidth=1, label=f\"+{i}σ\"\n",
    "        )\n",
    "        plt.axvline(\n",
    "            _mean - i * _std, color=\"red\", linestyle=\"--\", linewidth=1, label=f\"-{i}σ\"\n",
    "        )\n",
    "        _xlabels.append(round(_mean + i * _std, 3))\n",
    "        _xlabels.append(round(_mean - i * _std, 3))\n",
    "    plt.axvline(_mean, color=\"black\", linestyle=\":\", linewidth=2, label=\"Mean\")\n",
    "    plt.xticks(_xlabels)\n",
    "    plt.ylim(0, 150)\n",
    "\n",
    "    plt.xlabel(\"intersect x-value\")\n",
    "    plt.ylabel(\"amount\")\n",
    "    plt.title(\n",
    "        f\"Distribution of intersections of raising edge, window: {window}, threshold @ 50%\"\n",
    "    )\n",
    "    plt.show()"
   ]
  },
  {
   "cell_type": "code",
   "execution_count": null,
   "id": "fb4b9813-6c31-45af-a024-eb4bfecd9951",
   "metadata": {},
   "outputs": [],
   "source": [
    "for k, v in INTERPS.items():\n",
    "    plot_hist(k, v)"
   ]
  },
  {
   "cell_type": "markdown",
   "id": "574dae9c-a960-45c2-be91-7671a9aeea5a",
   "metadata": {},
   "source": [
    "### Plot mean and std dev per window location.\n",
    "\n",
    "The specific window locations is an effect of the syncronized trigger clock and can be sued to show that the timing performance when looking at a single window is good."
   ]
  },
  {
   "cell_type": "code",
   "execution_count": null,
   "id": "587649c6-3167-44b1-b2fb-696c82c502a5",
   "metadata": {},
   "outputs": [],
   "source": [
    "_means = []\n",
    "_xaxis = []\n",
    "_yerr = []\n",
    "for k, v in sorted(INTERPS.items()):\n",
    "    _means.append(np.mean(v))\n",
    "    _xaxis.append(k)\n",
    "    _yerr.append(np.std(v))\n",
    "\n",
    "plt.figure(figsize=(12, 8))\n",
    "plt.errorbar(\n",
    "    _xaxis,\n",
    "    _means,\n",
    "    yerr=_yerr,\n",
    "    fmt=\"x\",\n",
    "    ecolor=\"red\",\n",
    "    elinewidth=2,\n",
    "    capsize=5,\n",
    "    capthick=2,\n",
    ")\n",
    "plt.xlabel(\"window label\")\n",
    "plt.ylabel(\"mean intersection location (sample pt)\")\n",
    "plt.title(\"intersection mean location (std devation error bars) at window locations\")\n",
    "plt.yticks(np.array(range(13270, 13330, 2)) / 100)\n",
    "plt.grid()"
   ]
  },
  {
   "cell_type": "code",
   "execution_count": null,
   "id": "f675cade-e6dd-402c-8fb5-12160823355d",
   "metadata": {},
   "outputs": [],
   "source": [
    "plt.figure(figsize=(12, 8))\n",
    "plt.plot(_xaxis, _yerr, marker=\"x\")\n",
    "plt.xlabel(\"window number\")\n",
    "plt.ylabel(\"std deviation, [sample pt]\")\n",
    "plt.title(\"Standard deviation at window label,  binned data\")\n",
    "plt.grid()"
   ]
  },
  {
   "cell_type": "code",
   "execution_count": null,
   "id": "b143ec63-7741-485b-99bd-a36b05a6b0bc",
   "metadata": {},
   "outputs": [],
   "source": [
    "import matplotlib.pyplot as plt\n",
    "import numpy as np\n",
    "\n",
    "# Sample data for different memory addresses\n",
    "\n",
    "# Creating the box plot\n",
    "plt.figure(figsize=(12, 8))\n",
    "plt.boxplot(INTERPS.values(), labels=INTERPS.keys())\n",
    "plt.xlabel(\"Memory Address\")\n",
    "plt.ylabel(\"Pulse Timing\")\n",
    "plt.title(\"Box Plot of Pulse Timings by Memory Address\")\n",
    "plt.show()"
   ]
  }
 ],
 "metadata": {
  "kernelspec": {
   "display_name": "nalu311",
   "language": "python",
   "name": "nalu311"
  },
  "language_info": {
   "codemirror_mode": {
    "name": "ipython",
    "version": 3
   },
   "file_extension": ".py",
   "mimetype": "text/x-python",
   "name": "python",
   "nbconvert_exporter": "python",
   "pygments_lexer": "ipython3",
   "version": "3.11.8"
  }
 },
 "nbformat": 4,
 "nbformat_minor": 5
}
