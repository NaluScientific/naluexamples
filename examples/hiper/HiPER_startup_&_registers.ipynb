{
 "cells": [
  {
   "attachments": {},
   "cell_type": "markdown",
   "metadata": {},
   "source": [
    "# Imports and variables"
   ]
  },
  {
   "attachments": {},
   "cell_type": "markdown",
   "metadata": {},
   "source": [
    "## Imports"
   ]
  },
  {
   "cell_type": "code",
   "execution_count": null,
   "metadata": {},
   "outputs": [],
   "source": [
    "%load_ext autoreload\n",
    "%autoreload 2"
   ]
  },
  {
   "cell_type": "code",
   "execution_count": null,
   "metadata": {},
   "outputs": [],
   "source": [
    "import time\n",
    "from naludaq.board import Board\n",
    "from naludaq.communication import (\n",
    "    ControlRegisters,\n",
    "    DigitalRegisters,\n",
    "    AnalogRegisters,\n",
    ")"
   ]
  },
  {
   "cell_type": "markdown",
   "metadata": {},
   "source": [
    "### Logger"
   ]
  },
  {
   "cell_type": "code",
   "execution_count": null,
   "metadata": {},
   "outputs": [],
   "source": [
    "from logging import getLogger, Formatter, StreamHandler, INFO, DEBUG, ERROR\n",
    "\n",
    "def setup_logger(level=DEBUG):\n",
    "    logger = getLogger()\n",
    "    handler = StreamHandler()\n",
    "    handler.setFormatter(Formatter('%(asctime)s %(name)-30s [%(levelname)-6s]: %(message)s'))\n",
    "    logger.addHandler(handler)\n",
    "    logger.setLevel(level)\n",
    "    uart = getLogger('naludaq.board.connections._UART')\n",
    "    uart.setLevel(ERROR)\n",
    "    \n",
    "    return logger\n",
    "\n",
    "try:\n",
    "    logger.info(\"logger already setup\")\n",
    "except:\n",
    "    logger = setup_logger()\n",
    "    \n",
    "uart = getLogger('naludaq.board.connections._UART')\n",
    "uart.setLevel(DEBUG)"
   ]
  },
  {
   "attachments": {},
   "cell_type": "markdown",
   "metadata": {},
   "source": [
    "## Board creation"
   ]
  },
  {
   "cell_type": "code",
   "execution_count": null,
   "metadata": {},
   "outputs": [],
   "source": [
    "MODEL = \"hiper\"\n",
    "SERIAL = \"EA8C7B\"\n",
    "BAUDRATE = 3_000_000"
   ]
  },
  {
   "cell_type": "code",
   "execution_count": null,
   "metadata": {},
   "outputs": [],
   "source": [
    "BOARD = Board(MODEL)"
   ]
  },
  {
   "cell_type": "code",
   "execution_count": null,
   "metadata": {},
   "outputs": [],
   "source": [
    "from naludaq.tools.ftdi import list_ftdi_devices"
   ]
  },
  {
   "cell_type": "code",
   "execution_count": null,
   "metadata": {},
   "outputs": [],
   "source": [
    "list_ftdi_devices()"
   ]
  },
  {
   "cell_type": "code",
   "execution_count": null,
   "metadata": {},
   "outputs": [],
   "source": [
    "BOARD.get_ftdi_connection(serial_number=SERIAL, baud=BAUDRATE)\n",
    "BOARD.disconnect()"
   ]
  },
  {
   "cell_type": "code",
   "execution_count": null,
   "metadata": {},
   "outputs": [],
   "source": [
    "CR = ControlRegisters(BOARD)\n",
    "DR = DigitalRegisters(BOARD)"
   ]
  },
  {
   "cell_type": "markdown",
   "metadata": {},
   "source": [
    "# Board control"
   ]
  },
  {
   "attachments": {},
   "cell_type": "markdown",
   "metadata": {},
   "source": [
    "## Multichip control\n",
    "Since the board has multiple chips, we need to be able to select which chip to program.\n",
    "However we can't read the chips"
   ]
  },
  {
   "cell_type": "markdown",
   "metadata": {},
   "source": [
    "### Read/Write control registers"
   ]
  },
  {
   "cell_type": "code",
   "execution_count": null,
   "metadata": {},
   "outputs": [],
   "source": [
    "# Hiper needs to have installed chips specified as a board param.\n",
    "with BOARD:\n",
    "    CR.read('identifier')"
   ]
  },
  {
   "cell_type": "code",
   "execution_count": null,
   "metadata": {},
   "outputs": [],
   "source": [
    "with BOARD:\n",
    "    print(f\"{CR.read('busy_locked')}\")\n",
    "    print(f\"{CR.read('idle_det')}\")"
   ]
  },
  {
   "cell_type": "code",
   "execution_count": null,
   "metadata": {},
   "outputs": [],
   "source": [
    "expected_val = int(b'1010101', 2)\n",
    "with BOARD:\n",
    "    CR.read('runevs')\n",
    "    time.sleep(0.1)\n",
    "    CR.write('runevs', expected_val)\n",
    "    time.sleep(0.1)\n",
    "    print(CR.read('runevs')[\"value\"] == expected_val)"
   ]
  },
  {
   "cell_type": "markdown",
   "metadata": {},
   "source": [
    "### Read/Write to digital registers"
   ]
  },
  {
   "cell_type": "code",
   "execution_count": null,
   "metadata": {},
   "outputs": [],
   "source": [
    "# THIS IS BROKEN! YOU CAN'T READ DIGITAL REGISTERS WITH THE HIPER\n",
    "\n",
    "#####################################\n",
    "# TXIn Enable OFF TO AVOID UNWANTED RETURN DATA.\n",
    "# CAN BE ON IF YOU WANT RETURN DATA FOR EACH COMMAND\n",
    "\n",
    "#####################################\n",
    "# select the first chip\n",
    "backup_rx = CR.read('rxout_en')[\"value\"]\n",
    "backup_tx = CR.read('txin_en')[\"value\"]\n",
    "with BOARD:\n",
    "    CR.write('rxout_en', 65535)\n",
    "    time.sleep(0.1)\n",
    "    CR.write('txin_en', 65535) # int('1110' '000' '000' '000' '001',2))\n",
    "    time.sleep(0.1)\n",
    "\n",
    "    DR.read('chipid')\n",
    "    DR.write('chipid', 0b10101010)\n",
    "    print(DR.read('chipid')[\"value\"] == 0b10101010)\n",
    "\n",
    "    time.sleep(0.1)\n",
    "    CR.write('rxout_en', backup_rx)\n",
    "    CR.write('txin_en', backup_tx)"
   ]
  },
  {
   "cell_type": "markdown",
   "metadata": {},
   "source": [
    "### Startup sequence"
   ]
  },
  {
   "cell_type": "code",
   "execution_count": null,
   "metadata": {},
   "outputs": [],
   "source": [
    "from naludaq.board import startup_board"
   ]
  },
  {
   "cell_type": "code",
   "execution_count": null,
   "metadata": {},
   "outputs": [],
   "source": [
    "started = startup_board(BOARD)\n",
    "assert started == True"
   ]
  },
  {
   "cell_type": "code",
   "execution_count": null,
   "metadata": {},
   "outputs": [],
   "source": []
  }
 ],
 "metadata": {
  "kernelspec": {
   "display_name": "nalu310",
   "language": "python",
   "name": "python3"
  },
  "language_info": {
   "codemirror_mode": {
    "name": "ipython",
    "version": 3
   },
   "file_extension": ".py",
   "mimetype": "text/x-python",
   "name": "python",
   "nbconvert_exporter": "python",
   "pygments_lexer": "ipython3",
   "version": "3.10.9"
  }
 },
 "nbformat": 4,
 "nbformat_minor": 2
}
