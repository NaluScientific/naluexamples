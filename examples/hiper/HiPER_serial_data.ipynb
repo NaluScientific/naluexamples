{
 "cells": [
  {
   "attachments": {},
   "cell_type": "markdown",
   "metadata": {},
   "source": [
    "### Naludaq Version\n",
    "*Max Version*: `0.17.2`  \n",
    "*Min Version*: `0.17.2`"
   ]
  },
  {
   "cell_type": "code",
   "execution_count": null,
   "metadata": {},
   "outputs": [],
   "source": [
    "# Print Naludaq version\n",
    "import naludaq\n",
    "print(f\"Naludaq version: {naludaq.__version__}\")"
   ]
  },
  {
   "attachments": {},
   "cell_type": "markdown",
   "metadata": {},
   "source": [
    "### Compatible Boards\n",
    "+ `UPAC96`\n",
    "    + Firmware: `v911` - `v911`"
   ]
  },
  {
   "attachments": {},
   "cell_type": "markdown",
   "metadata": {},
   "source": [
    "### Equipment Needed\n",
    "+ Function Generator\n",
    "+ Oscilloscope"
   ]
  },
  {
   "attachments": {},
   "cell_type": "markdown",
   "metadata": {},
   "source": [
    "## Example Code"
   ]
  },
  {
   "attachments": {},
   "cell_type": "markdown",
   "metadata": {},
   "source": [
    "`Give descriptions and/or reasoning of code`"
   ]
  },
  {
   "attachments": {},
   "cell_type": "markdown",
   "metadata": {},
   "source": [
    "This notebook is to demonstrate how to capture an event with Naludaq's software on the UPAC96 with software trigger."
   ]
  },
  {
   "cell_type": "code",
   "execution_count": null,
   "metadata": {},
   "outputs": [],
   "source": [
    "%load_ext autoreload\n",
    "%autoreload 2"
   ]
  },
  {
   "cell_type": "code",
   "execution_count": null,
   "metadata": {},
   "outputs": [],
   "source": [
    "import time\n",
    "from collections import deque\n",
    "\n",
    "import matplotlib.pyplot as plt\n",
    "from logging import getLogger, DEBUG, StreamHandler, Formatter\n",
    "\n",
    "from naludaq.board import Board, startup_board\n",
    "from naludaq.controllers import get_board_controller\n",
    "from naludaq.daq.workers.worker_serial_reader import SerialReader\n",
    "from naludaq.communication import (\n",
    "    ControlRegisters,\n",
    "    DigitalRegisters,\n",
    "    AnalogRegisters,\n",
    ")"
   ]
  },
  {
   "attachments": {},
   "cell_type": "markdown",
   "metadata": {},
   "source": [
    "### Setup Logger"
   ]
  },
  {
   "cell_type": "code",
   "execution_count": null,
   "metadata": {},
   "outputs": [],
   "source": [
    "def setup_logger(connection_level = DEBUG):\n",
    "    \"\"\"Setup a logger for Naludaq to print out debug information.\n",
    "    \n",
    "    Args:\n",
    "        connection_level (int): Sets logging level for UART/FTDI connections.\n",
    "            Warning: If set too low, VS Code may crash\n",
    "    \"\"\"\n",
    "    logger = getLogger()\n",
    "    logger.setLevel(DEBUG)\n",
    "\n",
    "    # UART is very verbose, keep on info unless something is broken.\n",
    "    # getLogger(\"naludaq.UART\").setLevel(connection_level)\n",
    "    # getLogger(\"naludaq.FTDI\").setLevel(connection_level)\n",
    "\n",
    "    handler = StreamHandler()\n",
    "    handler.setFormatter(Formatter(\"%(asctime)s %(name)-30s [%(levelname)-6s]: %(message)s\"))\n",
    "    logger.addHandler(handler)\n",
    "\n",
    "    return logger\n",
    "\n",
    "try:\n",
    "    logger\n",
    "except:\n",
    "    logger = setup_logger()\n"
   ]
  },
  {
   "attachments": {},
   "cell_type": "markdown",
   "metadata": {},
   "source": [
    "### Board Creation and Startup"
   ]
  },
  {
   "cell_type": "code",
   "execution_count": null,
   "metadata": {},
   "outputs": [],
   "source": [
    "MODEL = \"hiper\"\n",
    "SERIAL = \"EA8C7B\"\n",
    "BAUDRATE = 3_000_000\n",
    "BOARD = Board(MODEL)\n",
    "BOARD.get_ftdi_connection(serial_number=SERIAL, baud=BAUDRATE)\n",
    "BOARD.params[\"installed_chips\"] = [0,1]\n",
    "BOARD.disconnect()"
   ]
  },
  {
   "cell_type": "code",
   "execution_count": null,
   "metadata": {},
   "outputs": [],
   "source": [
    "with BOARD:\n",
    "    startup_board(BOARD)"
   ]
  },
  {
   "attachments": {},
   "cell_type": "markdown",
   "metadata": {},
   "source": [
    "### Capture Data"
   ]
  },
  {
   "attachments": {},
   "cell_type": "markdown",
   "metadata": {},
   "source": [
    "Data is captured with a debugdaq, and events are stored to the DebugDaq's `output_buffer` property"
   ]
  },
  {
   "cell_type": "code",
   "execution_count": null,
   "metadata": {},
   "outputs": [],
   "source": [
    "bc = get_board_controller(BOARD)\n",
    "CR = ControlRegisters(BOARD)\n",
    "DR = DigitalRegisters(BOARD)"
   ]
  },
  {
   "cell_type": "code",
   "execution_count": null,
   "metadata": {},
   "outputs": [],
   "source": [
    "with BOARD:\n",
    "    bc.reset_board()"
   ]
  },
  {
   "cell_type": "code",
   "execution_count": null,
   "metadata": {},
   "outputs": [],
   "source": [
    "with BOARD:\n",
    "    print(bc.read_identifier()[\"value\"])"
   ]
  },
  {
   "cell_type": "code",
   "execution_count": null,
   "metadata": {},
   "outputs": [],
   "source": [
    "def arm_trigger(board):\n",
    "    CR.write(\"trig_count_reset\", True)\n",
    "    CR.write(\"trig_count_reset\", False)\n",
    "\n",
    "\n",
    "def set_maximum_triggers(board, trig_enable, value):\n",
    "    \"\"\"Sets the maximum amount of triggers.\n",
    "\n",
    "    Args:\n",
    "        trig_enable (int): the chip number\n",
    "        value (int): the maximum number of triggers\n",
    "    \"\"\"\n",
    "    CR.write(\"exttrig_en\", trig_enable)\n",
    "    CR.write(\"max_trig_count\", value)\n",
    "\n",
    "def set_maximum_triggers(board, trig_enable, value):\n",
    "    \"\"\"Sets the maximum amount of triggers.\n",
    "\n",
    "    Args:\n",
    "        trig_enable (int): the chip number\n",
    "        value (int): the maximum number of triggers\n",
    "    \"\"\"\n",
    "    CR.write(\"exttrig_en\", trig_enable)\n",
    "    CR.write(\"max_trig_count\", value)\n"
   ]
  },
  {
   "cell_type": "code",
   "execution_count": null,
   "metadata": {},
   "outputs": [],
   "source": [
    "from naludaq.controllers.readout import get_readout_controller\n",
    "readwindow = {\n",
    "    \"windows\": 6,\n",
    "    \"lookback\": 12,\n",
    "    \"write_after_trig\": 6\n",
    "}\n",
    "\n",
    "with BOARD:\n",
    "    get_readout_controller(BOARD).set_read_window(**readwindow)\n",
    "    CR.write(\"header_en\", 1)\n",
    "    CR.write(\"footer_en\", 1)\n"
   ]
  },
  {
   "cell_type": "code",
   "execution_count": null,
   "metadata": {},
   "outputs": [],
   "source": [
    "output = deque()\n",
    "sread = SerialReader(BOARD.connection, output)\n",
    "readout_settings = {\n",
    "    \"trig\": \"ext\",\n",
    "    \"lb\": \"forced\",\n",
    "    \"acq\": \"raw\",\n",
    "    \"dig_head\": False,\n",
    "    \"ped\": \"zero\",\n",
    "    \"readoutEn\": True,\n",
    "    \"singleEv\": False,\n",
    "}\n",
    "\n",
    "# with BOARD:\n",
    "#     for chip in BOARD.params[\"installed_chips\"]:\n",
    "#         set_maximum_triggers(BOARD, chip, 2)\n",
    "\n",
    "# Opening the board with a context manager, ensures the connection is closed when we are done using it\n",
    "with BOARD:\n",
    "    DR.write('enabletestpatt', 1)\n",
    "    sread.start()\n",
    "    bc.start_readout(**readout_settings)\n",
    "    time.sleep(0.1)\n",
    "\n",
    "    bc.toggle_trigger()\n",
    "    time.sleep(5)\n",
    "    sread.stop()\n",
    "    bc.stop_readout()"
   ]
  },
  {
   "cell_type": "code",
   "execution_count": null,
   "metadata": {},
   "outputs": [],
   "source": [
    "lol = bytearray()\n",
    "for pk in output:\n",
    "    lol.extend(pk)\n",
    "\n",
    "for i in range(10, len(lol), 2):\n",
    "    print(f\"{i}: {lol[i:i+2].hex()}\")"
   ]
  },
  {
   "cell_type": "code",
   "execution_count": null,
   "metadata": {},
   "outputs": [],
   "source": [
    "with BOARD:\n",
    "    idl=CR.read('idle_det')['value']\n",
    "    print(f\"{idl=}, {idl=:#010b}, {idl=:#010x}\")\n",
    "    bl = CR.read('busy_locked')['value']\n",
    "    print(f\"{bl=}, {bl=:#010b}, {bl=:#010x}\")"
   ]
  },
  {
   "cell_type": "code",
   "execution_count": null,
   "metadata": {},
   "outputs": [],
   "source": []
  }
 ],
 "metadata": {
  "kernelspec": {
   "display_name": "Python 3.9.12 ('nalu-dev')",
   "language": "python",
   "name": "python3"
  },
  "language_info": {
   "codemirror_mode": {
    "name": "ipython",
    "version": 3
   },
   "file_extension": ".py",
   "mimetype": "text/x-python",
   "name": "python",
   "nbconvert_exporter": "python",
   "pygments_lexer": "ipython3",
   "version": "3.10.9"
  },
  "vscode": {
   "interpreter": {
    "hash": "19aafdb373e9c9f5f579aba7283426ef4b21b1116573b1fcfac821e6343cfbff"
   }
  }
 },
 "nbformat": 4,
 "nbformat_minor": 2
}
