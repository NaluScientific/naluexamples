{
 "cells": [
  {
   "attachments": {},
   "cell_type": "markdown",
   "metadata": {},
   "source": [
    "### Naludaq Version\n",
    "*Min Version*: `0.17.2`"
   ]
  },
  {
   "cell_type": "code",
   "execution_count": null,
   "metadata": {},
   "outputs": [],
   "source": [
    "# Print Naludaq version\n",
    "import naludaq\n",
    "print(f\"Naludaq version: {naludaq.__version__}\")"
   ]
  },
  {
   "attachments": {},
   "cell_type": "markdown",
   "metadata": {},
   "source": [
    "### Prerequisites\n",
    "+ Acquisition captured previously (can be from NaluScope)"
   ]
  },
  {
   "cell_type": "code",
   "execution_count": null,
   "metadata": {},
   "outputs": [],
   "source": [
    "# Run this code for plotting\n",
    "import matplotlib.pyplot as plt\n",
    "\n",
    "from naluexamples.helpers.plotting import get_color_mapping, set_plot_style\n",
    "\n",
    "def plot_event(event: dict, channels: list[int]=None, title: str=None):\n",
    "    \"\"\"Plot an event dict.\n",
    "\n",
    "    Args:\n",
    "        event (dict): the parsed event\n",
    "        channels (list[int]): Channels to plot. Defaults to all channels.\n",
    "        title (str): Optional title for the plot\n",
    "    \"\"\"\n",
    "    channels = channels or range(len(event[\"data\"]))\n",
    "    title = title or f\"Event #{event.get('pkg_num', '?')}\"\n",
    "\n",
    "\n",
    "    # Plot the event\n",
    "    plt.figure(figsize=(8,8), constrained_layout=True)\n",
    "    plt.xlabel(\"Time\")\n",
    "    plt.ylabel(\"ADC Counts\")\n",
    "    plt.title(title)\n",
    "    cmap = get_color_mapping(\"ocean\")\n",
    "    set_plot_style(font_size=18, font_family=\"monospace\")\n",
    "    for i, channel in enumerate(channels):\n",
    "        time = event[\"time\"][channel]\n",
    "        data = event[\"data\"][channel]\n",
    "        plt.plot(time, data, \".-\", label=f\"Channel {channel}\", color=cmap(i / len(channels)))\n",
    "    plt.legend()\n",
    "    plt.show()"
   ]
  },
  {
   "attachments": {},
   "cell_type": "markdown",
   "metadata": {},
   "source": [
    "## Legacy Acquisitions\n",
    "\n",
    "Acquisitions captured in the older \"legacy\" format are gzipped Python pickles. \n",
    "The data structure is a bit different than the newer format, and the entire acquisition must be loaded into memory."
   ]
  },
  {
   "cell_type": "code",
   "execution_count": null,
   "metadata": {},
   "outputs": [],
   "source": [
    "from naludaq.io import load_pickle_acquisition\n",
    "\n",
    "ACQ_PATH = r\"<PATH TO .acq FILE>\"\n",
    "\n",
    "# Load the acquisition from disk\n",
    "ACQ = load_pickle_acquisition(ACQ_PATH)\n",
    "\n",
    "print(\"Board model:\", ACQ.params[\"model\"])\n",
    "print(\"Number of events:\", len(ACQ))\n",
    "print(\"Pedestals stored:\", ACQ.pedestals is not None)"
   ]
  },
  {
   "attachments": {},
   "cell_type": "markdown",
   "metadata": {},
   "source": [
    "Accessing events is different with legacy acquisitions, as they must be manually parsed."
   ]
  },
  {
   "cell_type": "code",
   "execution_count": null,
   "metadata": {},
   "outputs": [],
   "source": [
    "from naludaq.parsers import get_parser\n",
    "\n",
    "EVENT_INDEX = 0\n",
    "\n",
    "parser = get_parser(ACQ.params)\n",
    "event = parser.parse(ACQ[EVENT_INDEX])\n",
    "plot_event(event)"
   ]
  },
  {
   "attachments": {},
   "cell_type": "markdown",
   "metadata": {},
   "source": [
    "## Opening Without NaluDaq\n",
    "\n",
    "It is possible to open acquisitions without using NaluDaq, as the acquisition files are just gzipped Python pickles of a dictionary object."
   ]
  },
  {
   "cell_type": "code",
   "execution_count": 1,
   "metadata": {},
   "outputs": [],
   "source": [
    "import gzip\n",
    "import pickle\n",
    "\n",
    "ACQ_PATH = r\"C:\\Users\\nalul\\New Project\\asocv3 visualizer data.acq\"\n",
    "\n",
    "with gzip.GzipFile(ACQ_PATH, \"rb\") as f:\n",
    "    acq = pickle.load(f)\n",
    "\n",
    "# Examples on how to access the data. Use acq.keys() to see all available keys.\n",
    "all_events = acq[\"events\"]\n",
    "pedestals = acq[\"calibration\"][\"pedestals\"]\n",
    "params = acq[\"metadata\"][\"settings\"][\"params\"]"
   ]
  },
  {
   "attachments": {},
   "cell_type": "markdown",
   "metadata": {},
   "source": [
    "The dictionary contains the following tree structure:\n",
    "\n",
    "- `events` - Unparsed event dictionaries. Must be parsed using `params` before processing.\n",
    "- `calibration`\n",
    "  - `pedestals` - Pedestals calibration data, used for pedestals correction\n",
    "- `metadata`\n",
    "  - `acq_num` - Acquisition number from NaluScope\n",
    "  - `created_at` - Acquisition creation timestamp\n",
    "  - `file_version` - File format version\n",
    "  - `info` - Information about readout configuration\n",
    "    - `connection` - Board connection information\n",
    "    - `readings` - Sensor readings\n",
    "    - `readout_settings` - Settings used for the readout\n",
    "    - `trigger_settings` - Settings used for triggering\n",
    "  - `naludaq_version` - Version of `naludaq` used to capture acquisition\n",
    "  - `naluscope_version` - Version of `naluscope` used to capture acquisition\n",
    "  - `name` - Acquisition name from NaluScope\n",
    "  - `notes` - Notes from NaluScope\n",
    "  - `settings` - Board settings at the time of capture\n",
    "    - `params` - Board parameters. Necessary for some operations, including parsing and pedestals correction.\n",
    "    - `registers` - Board registers and values"
   ]
  },
  {
   "attachments": {},
   "cell_type": "markdown",
   "metadata": {},
   "source": [
    "## Pedestals Subtraction\n",
    "\n",
    "The events stored in the acquisitions are not pedestal-subtracted. To obtain pedestals-subtracted events, the process must be performed manually on the events."
   ]
  },
  {
   "cell_type": "code",
   "execution_count": null,
   "metadata": {},
   "outputs": [],
   "source": [
    "from naludaq.tools.pedestals.pedestals_correcter import PedestalsCorrecter\n",
    "\n",
    "\n",
    "# Fetch an event, pedestals, and params from disk\n",
    "ACQ_PATH = r\"<PATH TO ACQUISITION FOLDER>\"\n",
    "EVENT_INDEX = 0\n",
    "\n",
    "ACQ = load_pickle_acquisition(ACQ_PATH)\n",
    "\n",
    "event = ACQ[EVENT_INDEX]\n",
    "params = ACQ.params\n",
    "pedestals = ACQ.pedestals\n",
    "\n",
    "if pedestals is None:\n",
    "    print(\"Acquisition must have pedestals in order to correct data!\")\n",
    "else:\n",
    "    # Apply correction (in place)\n",
    "    corrector = PedestalsCorrecter(params, pedestals)\n",
    "    corrected_event = corrector.run(event, correct_in_place=True)\n",
    "    plot_event(corrected_event)"
   ]
  }
 ],
 "metadata": {
  "kernelspec": {
   "display_name": "Python 3.9.12 ('nalu-dev')",
   "language": "python",
   "name": "python3"
  },
  "language_info": {
   "codemirror_mode": {
    "name": "ipython",
    "version": 3
   },
   "file_extension": ".py",
   "mimetype": "text/x-python",
   "name": "python",
   "nbconvert_exporter": "python",
   "pygments_lexer": "ipython3",
   "version": "3.9.13"
  },
  "vscode": {
   "interpreter": {
    "hash": "19aafdb373e9c9f5f579aba7283426ef4b21b1116573b1fcfac821e6343cfbff"
   }
  }
 },
 "nbformat": 4,
 "nbformat_minor": 2
}
