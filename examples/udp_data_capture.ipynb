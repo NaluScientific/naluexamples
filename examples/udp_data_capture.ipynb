{
 "cells": [
  {
   "cell_type": "markdown",
   "id": "65d921c6",
   "metadata": {},
   "source": [
    "# ASoC/AARDVARC UDP readout example\n",
    "This example notebooks show how a user can read out the data from the ASoC or AARDVARC eval cards connected to the Nexys video FPGA card."
   ]
  },
  {
   "cell_type": "markdown",
   "id": "fdd283a0",
   "metadata": {},
   "source": [
    "### Naludaq Version\n",
    "*Min Version*: `0.26.4`"
   ]
  },
  {
   "cell_type": "code",
   "execution_count": null,
   "id": "09e7cd58",
   "metadata": {},
   "outputs": [],
   "source": [
    "# Print Naludaq version\n",
    "import naludaq\n",
    "\n",
    "print(f\"Naludaq version: {naludaq.__version__}\")"
   ]
  },
  {
   "cell_type": "markdown",
   "id": "219057d8",
   "metadata": {},
   "source": [
    "### Compatible Boards\n",
    "+ `AARDVARCv3`\n",
    "+ `HDSOCv1_evalr2`\n",
    "+ `ASOCv3`\n",
    "+ `AODSv2`\n",
    "+ `TRBHM`\n",
    "+ `AODSOC_AODS`\n",
    "+ `AODSOC_ASOC`\n"
   ]
  },
  {
   "cell_type": "markdown",
   "id": "53a50212-4948-4bd3-a5f0-af6dc0f623ca",
   "metadata": {},
   "source": [
    "## imports and variables"
   ]
  },
  {
   "cell_type": "code",
   "execution_count": null,
   "id": "d1fbba11-eac1-42f1-ba2d-986611da3774",
   "metadata": {},
   "outputs": [],
   "source": [
    "%load_ext autoreload\n",
    "%autoreload 2"
   ]
  },
  {
   "cell_type": "code",
   "execution_count": null,
   "id": "874274c1-f553-4c8d-b88e-8c6c036bcd8f",
   "metadata": {},
   "outputs": [],
   "source": [
    "import time\n",
    "\n",
    "# Imports for board creation and identification\n",
    "from naluconfigs import get_available_models\n",
    "from naludaq.board import Board, startup_board\n",
    "\n",
    "# Registers modules handles communication with FPGA and ASIC registers.\n",
    "from naludaq.communication import ControlRegisters, DigitalRegisters, AnalogRegisters\n",
    "\n",
    "# Controllers controls one aspect of the board, board controllers start/stop acquisitons, readout controllers set the readout parameters.\n",
    "from naludaq.controllers import get_board_controller, get_readout_controller\n",
    "\n",
    "# Imports for data acquisition.\n",
    "import pathlib"
   ]
  },
  {
   "cell_type": "code",
   "execution_count": null,
   "id": "6b895960",
   "metadata": {},
   "outputs": [],
   "source": [
    "from logging import getLogger, Formatter, StreamHandler, INFO, DEBUG\n",
    "\n",
    "\n",
    "def setup_logger(level=INFO):\n",
    "    \"\"\"Setup a basic logger.\n",
    "\n",
    "    Logging to the stream formatted for easy visual readout.\n",
    "\n",
    "    Args:\n",
    "        level: Logging level, ex. logging.INFO\n",
    "\n",
    "    Returns:\n",
    "        logger object.\n",
    "    \"\"\"\n",
    "    logger = getLogger()\n",
    "    handler = StreamHandler()\n",
    "    handler.setFormatter(\n",
    "        Formatter(\"%(asctime)s %(name)-30s [%(levelname)-6s]: %(message)s\")\n",
    "    )\n",
    "    logger.addHandler(handler)\n",
    "    logger.setLevel(DEBUG)\n",
    "    uart = getLogger(\"naludaq.board.connections._UART\")\n",
    "    uart.setLevel(DEBUG)\n",
    "\n",
    "    return logger\n",
    "\n",
    "\n",
    "try:\n",
    "    logger.debug(\"logger already setup\")  # noqa\n",
    "except NameError:\n",
    "    logger = setup_logger(DEBUG)"
   ]
  },
  {
   "cell_type": "markdown",
   "id": "2c37951b-7f07-4690-a6ae-e3ccc64dde8e",
   "metadata": {},
   "source": [
    "## Create board object"
   ]
  },
  {
   "cell_type": "code",
   "execution_count": null,
   "id": "3bba9071",
   "metadata": {},
   "outputs": [],
   "source": [
    "# List all possible board model names:\n",
    "print(\"\\n\".join([x for x in get_available_models()]))"
   ]
  },
  {
   "cell_type": "code",
   "execution_count": null,
   "id": "2b6e5a14-3517-48dc-8070-eb5a7d5aba89",
   "metadata": {},
   "outputs": [],
   "source": [
    "model = \"asocv3\"  # Board model all in lowercase"
   ]
  },
  {
   "cell_type": "code",
   "execution_count": null,
   "id": "b8b74087-cc1a-4274-9ae0-30c7fea69dbc",
   "metadata": {},
   "outputs": [],
   "source": [
    "BOARD = Board(model)"
   ]
  },
  {
   "cell_type": "markdown",
   "id": "faf4aa9a",
   "metadata": {},
   "source": [
    "## Startup a backend server\n",
    "\n",
    "The backend server is a separate process that handles the communication with the FPGA board.\n",
    "The server can be run as a separate command line program which can be downloaded from here: [support.naluscientific.com](https://support.naluscientific.com)"
   ]
  },
  {
   "cell_type": "markdown",
   "id": "be8d848c",
   "metadata": {},
   "source": [
    "Start a local server, with the same lifeitme/scope as the python program.\n",
    "Set the working directory for the server. This is where the data will be saved."
   ]
  },
  {
   "cell_type": "code",
   "execution_count": null,
   "id": "226570c4",
   "metadata": {},
   "outputs": [],
   "source": [
    "output_dir = pathlib.Path().cwd() / \"output\"\n",
    "output_dir.mkdir(exist_ok=True, parents=True)"
   ]
  },
  {
   "cell_type": "code",
   "execution_count": null,
   "id": "4e323a12",
   "metadata": {},
   "outputs": [],
   "source": [
    "BOARD.start_server(output_dir=str(output_dir))"
   ]
  },
  {
   "cell_type": "code",
   "execution_count": null,
   "id": "1dd0dd8f",
   "metadata": {},
   "outputs": [],
   "source": [
    "# Full details of the backend API can be found at:\n",
    "print(f\"http://{BOARD._context.address[0]}:{BOARD._context.address[1]}/api\")"
   ]
  },
  {
   "cell_type": "markdown",
   "id": "ae019330",
   "metadata": {},
   "source": [
    "Connect the board object to the backend server and have the backend server establish a connection to the board."
   ]
  },
  {
   "cell_type": "code",
   "execution_count": null,
   "id": "e74a1759",
   "metadata": {},
   "outputs": [],
   "source": [
    "BOARD.connect_udp(\n",
    "    board_addr=(\"192.168.22.40\", 4660),\n",
    "    receiver_addr=(\"192.168.22.129\", 4660),\n",
    "    # backend_addr=('127.0.0.1', 7878),  # Optional, if you want to connect to an external backend, only if you don't run `BOARD.start_server`\n",
    ")"
   ]
  },
  {
   "cell_type": "code",
   "execution_count": null,
   "id": "0ac40638-c852-48a2-b8a5-a12e85ea6eb2",
   "metadata": {
    "tags": []
   },
   "outputs": [],
   "source": [
    "with BOARD:\n",
    "    startup_board(BOARD)"
   ]
  },
  {
   "cell_type": "markdown",
   "id": "421438db",
   "metadata": {},
   "source": [
    "It is possible to set the IP address and port of the board using the ControlRegisters module. The IP address and port of the board can be set using the following commands:\n",
    "```python\n",
    "ControlRegisters.write('eth_dest_ip', 'ip address')\n",
    "ControlRegisters.write('eth_dest_port', 4661)\n",
    "````\n"
   ]
  },
  {
   "cell_type": "code",
   "execution_count": null,
   "id": "d141648b-1ab9-4cb1-8ff3-c409943a96f3",
   "metadata": {},
   "outputs": [],
   "source": [
    "BC = get_board_controller(BOARD)"
   ]
  },
  {
   "cell_type": "code",
   "execution_count": null,
   "id": "eea84bd1-086b-4cd3-8f0f-c694fbd072e5",
   "metadata": {},
   "outputs": [],
   "source": [
    "with BOARD:\n",
    "    print(BC.read_firmware_version())"
   ]
  },
  {
   "cell_type": "code",
   "execution_count": null,
   "id": "5b6ed5cc-e5f7-4352-a6a7-aace34f1e43d",
   "metadata": {},
   "outputs": [],
   "source": [
    "CR = ControlRegisters(BOARD)\n",
    "AR = AnalogRegisters(BOARD)\n",
    "DR = DigitalRegisters(BOARD)"
   ]
  },
  {
   "cell_type": "code",
   "execution_count": null,
   "id": "f946167d-d575-4df0-92fd-94bc067d2976",
   "metadata": {},
   "outputs": [],
   "source": [
    "# Test writing and reading from ASIC registers.\n",
    "with BOARD:\n",
    "    DR.write(\"chipid\", 0b1010101)  # 85\n",
    "    print(DR.read(\"chipid\"))"
   ]
  },
  {
   "cell_type": "code",
   "execution_count": null,
   "id": "7a6300aa-d34b-4540-89a5-67cc56831f08",
   "metadata": {},
   "outputs": [],
   "source": [
    "def enable_serial(enable=True):\n",
    "    CR.write(\"iomode0\", not enable)\n",
    "    CR.write(\"iomode1\", enable)\n",
    "\n",
    "\n",
    "with BOARD:\n",
    "    enable_serial(\n",
    "        False\n",
    "    )  # Enable serial connection between ASIC and FPGA, DON'T ENABLE UNLESS YOU KNOW WHAT YOU ARE DOING"
   ]
  },
  {
   "cell_type": "markdown",
   "id": "06e63322-41f5-40aa-8a7a-c03518fd0bc6",
   "metadata": {},
   "source": [
    "# Readout event"
   ]
  },
  {
   "cell_type": "markdown",
   "id": "c3bd0479",
   "metadata": {},
   "source": [
    "Since the board is using UDP between the hardware and the backend, we then use TCP between the backend and the notebook.  \n",
    "The AcquisitionManager is used to control acquisitions."
   ]
  },
  {
   "cell_type": "markdown",
   "id": "0998a4bb",
   "metadata": {},
   "source": [
    "#### Setup an Acquisition to store data into:"
   ]
  },
  {
   "cell_type": "code",
   "execution_count": null,
   "id": "d904feb4",
   "metadata": {},
   "outputs": [],
   "source": [
    "from naludaq.backend import AcquisitionManager\n",
    "\n",
    "AM = AcquisitionManager(BOARD)"
   ]
  },
  {
   "cell_type": "code",
   "execution_count": null,
   "id": "e11ad14f",
   "metadata": {},
   "outputs": [],
   "source": [
    "# Create an acquisition\n",
    "ACQUISITION = AM.create()\n",
    "print(\"Created acquisition with name:\", ACQUISITION.name)"
   ]
  },
  {
   "cell_type": "code",
   "execution_count": null,
   "id": "8cbbdf2c",
   "metadata": {},
   "outputs": [],
   "source": [
    "# List available acquisitions\n",
    "print(\"Available acquisitions:\")\n",
    "for x in [acq.name for acq in AM.list()]:\n",
    "    print(f\"    {x}\")"
   ]
  },
  {
   "cell_type": "code",
   "execution_count": null,
   "id": "4dca3389",
   "metadata": {},
   "outputs": [],
   "source": [
    "# Set an acquisition as output for data\n",
    "ACQUISITION.set_output()\n",
    "print(\"Current output acquisition:\", AM.current_acquisition.name)"
   ]
  },
  {
   "cell_type": "markdown",
   "id": "cabfd831",
   "metadata": {},
   "source": [
    "Once up an Acquisition is created and set as output, the data can be read from the board to the Acquisition"
   ]
  },
  {
   "cell_type": "markdown",
   "id": "485f798d",
   "metadata": {},
   "source": [
    "### Setup readout parameters\n",
    "\n",
    "Once the board trigger it continues to sample for `write after trigger` cycles.  \n",
    "Then it will move the starting point for the readout `lookback` windows.  \n",
    "Lastly it will readout `windows` samples from the lookback point.  \n",
    "\n",
    "This allow the number of samples before and after the trigger point to be set in increments of windows.\n",
    "Window is the atom unit, one window is 64 samples wide.\n",
    "\n",
    "In the example we use 8 windows (512 samples), write after trig 4 (256 sp), and lookback 8 (512 sp). Which means 256 samples before and after the trigger.\n",
    "\n",
    "| Important to note that the boards trigger on a window by window basis and NOT per sample, which can cause edges to not line up in overlapping events. | | --- |\n"
   ]
  },
  {
   "cell_type": "code",
   "execution_count": null,
   "id": "d9a4c347",
   "metadata": {},
   "outputs": [],
   "source": [
    "with BOARD:\n",
    "    get_readout_controller(BOARD).set_read_window(\n",
    "        windows=8,\n",
    "        lookback=8,\n",
    "        write_after_trig=4,\n",
    "    )\n",
    "    get_readout_controller(BOARD).set_readout_channels(\n",
    "        [0, 1, 2, 4]\n",
    "    )  # Can be left out to read all channels"
   ]
  },
  {
   "cell_type": "markdown",
   "id": "5aacc45c",
   "metadata": {},
   "source": [
    "### Simplest readout\n",
    "The simplest way is to set the board up to listen for X number of seconds.\n",
    "\n",
    "The data will be stored in the output directory.\n",
    "\n",
    "To open the data see, [opening acquisitions](opening_acquisitions.ipynb)\n",
    "\n",
    "> the try - finally statement will catch the KeyboardInterup and allow the operation to be cancelled with `ctrl+c`"
   ]
  },
  {
   "cell_type": "code",
   "execution_count": null,
   "id": "6d8f257a",
   "metadata": {},
   "outputs": [],
   "source": [
    "with BOARD:\n",
    "    get_board_controller(BOARD).start_readout(\n",
    "        \"imm\"\n",
    "    )  # Start readout in immediate mode, the board will trigger itself.\n",
    "    try:\n",
    "        time.sleep(3)\n",
    "    finally:\n",
    "        get_board_controller(BOARD).stop_readout()"
   ]
  },
  {
   "cell_type": "markdown",
   "id": "7d15e029",
   "metadata": {},
   "source": [
    "### Simplest externally Triggered readout\n",
    "\n",
    "The simplest triggered readout is to trigger the board externally and readout the data. \n",
    "\n",
    "The board will wait for a trigger signal on trigger input port and then readout the data.\n",
    "\n",
    "It's possible to start and stop the readout manually without having a wait statement by adding a condition that waits for user input to continue.\n",
    "\n",
    "This section will capture the triggers during the time interval then stop."
   ]
  },
  {
   "cell_type": "code",
   "execution_count": null,
   "id": "a02d9d73",
   "metadata": {},
   "outputs": [],
   "source": [
    "with BOARD:\n",
    "    # Make sure the readout paramters are set correctly\n",
    "\n",
    "    get_board_controller(BOARD).start_readout(\n",
    "        \"ext\"  # Start readout in external trigger mode, the board will trigger on software triggers or trig_in input.\n",
    "    )\n",
    "    try:\n",
    "        time.sleep(3)  # Capture any triggers in the time interval.\n",
    "    finally:\n",
    "        get_board_controller(BOARD).stop_readout()"
   ]
  },
  {
   "cell_type": "markdown",
   "id": "882ebc9c",
   "metadata": {},
   "source": [
    "### Externally Triggered readout waiting for X events instead of time"
   ]
  },
  {
   "cell_type": "code",
   "execution_count": null,
   "id": "32840d57",
   "metadata": {},
   "outputs": [],
   "source": [
    "from naludaq.tools.data_collector import get_data_collector"
   ]
  },
  {
   "cell_type": "code",
   "execution_count": null,
   "id": "0833e37c",
   "metadata": {},
   "outputs": [],
   "source": [
    "COLLECTOR = get_data_collector(BOARD)"
   ]
  },
  {
   "cell_type": "code",
   "execution_count": null,
   "id": "798020d2",
   "metadata": {},
   "outputs": [],
   "source": [
    "# Don't forget you can always ask for help\n",
    "help(COLLECTOR)"
   ]
  },
  {
   "cell_type": "code",
   "execution_count": null,
   "id": "e7ede4b1",
   "metadata": {},
   "outputs": [],
   "source": [
    "# Setting up the readout settings is a bit different with the data collector\n",
    "COLLECTOR.channels = [0, 1, 2, 3]  # Can be left out to read all channels\n",
    "COLLECTOR.forced = False  # IF True the board will readout based on memory address instead of trigger position. DON'T USE.\n",
    "COLLECTOR.set_immediate_trigger()  # Start readout in immediate mode, the board will trigger itself.\n",
    "COLLECTOR.set_window(\n",
    "    windows=8,\n",
    "    lookback=8,\n",
    "    write_after_trig=4,\n",
    ")"
   ]
  },
  {
   "cell_type": "code",
   "execution_count": null,
   "id": "baba9de0",
   "metadata": {},
   "outputs": [],
   "source": [
    "### Create a data capture pipeline\n",
    "num_captures = 10\n",
    "num_evt_to_throw_away = 10  # warmup captures\n",
    "\n",
    "\n",
    "def validator(x):\n",
    "    \"\"\"A function that returns True if the data is valid, False otherwise.\"\"\"\n",
    "    return True\n",
    "\n",
    "\n",
    "def inner(x):\n",
    "    \"\"\"When calling with enumerated data the argument is a tuple with the index in the block and the data.\"\"\"\n",
    "    idx = x[0]\n",
    "    _ = x[1]  # The data\n",
    "    print(f\"Capturing event {idx + 1}/{num_captures}\")\n",
    "\n",
    "\n",
    "pipeline = COLLECTOR.iter_inf(attempts=10)\n",
    "pipeline = pipeline.for_each(lambda _: print(\"Do something here with data\"))\n",
    "pipeline = pipeline.filter(validator, exclusion_limit=10)\n",
    "pipeline = (\n",
    "    pipeline.enumerate().for_each(inner).unenumerate()\n",
    ")  # Example of how an event can be enumerated.\n",
    "pipeline = pipeline.skip(num_evt_to_throw_away)\n",
    "with BOARD:\n",
    "    pipeline.take(num_captures).collect()"
   ]
  },
  {
   "cell_type": "markdown",
   "id": "b948ff50",
   "metadata": {},
   "source": [
    "### Analog signal triggering\n",
    "\n",
    "The boards have capability to trigger on in the input signal.\n",
    "\n",
    "Levels can be set for each channel, and the trigger can be set to trigger on a rising or falling edge.\n",
    "\n",
    "To determine the optimal levels, use the threshold scan function in NaluScope.\n",
    "\n",
    "> Different boards have more or less granularity in the triggering circuit, check documentation."
   ]
  },
  {
   "cell_type": "code",
   "execution_count": null,
   "id": "9115713a",
   "metadata": {},
   "outputs": [],
   "source": [
    "from naludaq.controller.trigger import get_trigger_controller\n",
    "\n",
    "TC = get_trigger_controller(BOARD)"
   ]
  },
  {
   "cell_type": "code",
   "execution_count": null,
   "id": "221230b3",
   "metadata": {},
   "outputs": [],
   "source": [
    "with BOARD:\n",
    "    # Set the triggers\n",
    "    TC.trigger_values = [\n",
    "        1000,\n",
    "        1500,\n",
    "        2000,\n",
    "        2500,\n",
    "    ]  # Set the trigger values as represented by the thresholdscan.\n",
    "    TC.set_trigger_edge(rising=True)  # Set the trigger edge to rising or falling.\n",
    "\n",
    "    get_board_controller(BOARD).start_readout(\n",
    "        \"ext\"\n",
    "    )  # Start readout in immediate mode, the board will trigger itself.\n",
    "    try:\n",
    "        time.sleep(3)  # Capture any triggers in the time interval.\n",
    "    finally:\n",
    "        get_board_controller(BOARD).stop_readout()"
   ]
  }
 ],
 "metadata": {
  "kernelspec": {
   "display_name": "nalu311",
   "language": "python",
   "name": "nalu311"
  },
  "language_info": {
   "codemirror_mode": {
    "name": "ipython",
    "version": 3
   },
   "file_extension": ".py",
   "mimetype": "text/x-python",
   "name": "python",
   "nbconvert_exporter": "python",
   "pygments_lexer": "ipython3",
   "version": "3.11.8"
  }
 },
 "nbformat": 4,
 "nbformat_minor": 5
}
