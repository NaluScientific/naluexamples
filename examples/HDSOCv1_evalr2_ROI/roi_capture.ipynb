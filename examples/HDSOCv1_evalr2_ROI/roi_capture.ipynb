{
 "cells": [
  {
   "cell_type": "code",
   "execution_count": null,
   "metadata": {},
   "outputs": [],
   "source": [
    "%load_ext autoreload\n",
    "%autoreload 2\n",
    "import time\n",
    "import numpy as np\n",
    "import os\n",
    "import pickle\n",
    "import pathlib\n",
    "\n",
    "from naludaq.board import Board, startup_board\n",
    "from naludaq.communication import AnalogRegisters, DigitalRegisters, ControlRegisters\n",
    "from naludaq.parsers import get_parser\n",
    "from naludaq.tools import get_pedestals_controller, get_threshold_scanner\n",
    "from naludaq.tools.pedestals.pedestals_correcter import PedestalsCorrecter\n",
    "\n",
    "from naludaq.backend import AcquisitionManager, DiskAcquisition\n",
    "from naludaq.controllers import (\n",
    "    get_board_controller,\n",
    "    get_dac_controller,\n",
    "    get_readout_controller,\n",
    ")\n",
    "\n",
    "import matplotlib.pyplot as plt"
   ]
  },
  {
   "cell_type": "markdown",
   "metadata": {},
   "source": [
    "### Directory Setup"
   ]
  },
  {
   "cell_type": "code",
   "execution_count": null,
   "metadata": {},
   "outputs": [],
   "source": [
    "DATA_DIR = pathlib.Path().cwd() / \"data\"\n",
    "FIGURE_DIR = pathlib.Path().cwd() / \"figures\"\n",
    "CALIBRATIONS_DIR = pathlib.Path().cwd() / \"calibrations\""
   ]
  },
  {
   "cell_type": "markdown",
   "metadata": {},
   "source": [
    "### Function Definitions"
   ]
  },
  {
   "cell_type": "code",
   "execution_count": null,
   "metadata": {},
   "outputs": [],
   "source": [
    "def create_acquisition(name: str, board: Board, readout_metadata: dict = None):\n",
    "    am = AcquisitionManager(board)\n",
    "    acquisition = am.create(name)\n",
    "    acquisition.set_output()\n",
    "    if readout_metadata:\n",
    "        acquisition.readout_metadata = readout_metadata\n",
    "    return acquisition\n",
    "\n",
    "def create_acq_name(base_name: str):\n",
    "    timestr = time.strftime(\"%Y-%m-%d-%H-%M-%S\")\n",
    "    return base_name + \"_\" + timestr\n",
    "\n",
    "def parse_data(raw_data: dict, board: Board, correct_peds: bool = True):\n",
    "    PARSER = get_parser(board.params)\n",
    "    evt = PARSER.parse(raw_data)\n",
    "    if correct_peds:\n",
    "        PC = PedestalsCorrecter(board.params, board.pedestals)\n",
    "        PC.run(evt)\n",
    "    return evt\n",
    "\n",
    "def calculate_max_trigger(threshold_data):\n",
    "    trigger_values = []\n",
    "    for threshold_hits in threshold_data[0]:\n",
    "        max_threshold = threshold_data[1][np.argmax(threshold_hits)]\n",
    "        trigger_values.append(max_threshold)\n",
    "    return trigger_values\n",
    "\n",
    "def clear_figs():\n",
    "    plt.close(\"all\")\n",
    "\n",
    "def create_fig(figsize: tuple):\n",
    "    fig = plt.figure(figsize=figsize, constrained_layout=True)\n",
    "    return fig\n",
    "\n",
    "def plot_single_event(event, show: bool = True):\n",
    "    for chan, chan_data in enumerate(event[\"data\"]):\n",
    "        if isinstance(chan_data, np.ndarray) and chan_data.size == 0:\n",
    "            continue\n",
    "        if len(chan_data) == 0:\n",
    "            continue\n",
    "        ax = plt.plot(chan_data, '.-', markersize=10, label=f\"Channel {chan}\")\n",
    "    plt.legend(fontsize=12)\n",
    "    if show:\n",
    "        plt.show()\n"
   ]
  },
  {
   "cell_type": "markdown",
   "metadata": {},
   "source": [
    "### Startup Board"
   ]
  },
  {
   "cell_type": "code",
   "execution_count": null,
   "metadata": {},
   "outputs": [],
   "source": [
    "BOARD = Board('hdsocv1_evalr2')\n",
    "BOARD.start_server(\"data\")\n",
    "BOARD_ADDRESS = (\"192.168.1.59\", 4660)\n",
    "RECEIVER_ADDRESS = (\"192.168.1.165\", 4662)\n",
    "SERVER_ADDRESS = (BOARD.context.address)\n",
    "BOARD.connect_udp(BOARD_ADDRESS, RECEIVER_ADDRESS, SERVER_ADDRESS)\n",
    "startup_board(BOARD)"
   ]
  },
  {
   "cell_type": "markdown",
   "metadata": {},
   "source": [
    "### Function Gen Setup"
   ]
  },
  {
   "cell_type": "code",
   "execution_count": null,
   "metadata": {},
   "outputs": [],
   "source": [
    "from naluinstruments.Instruments import Siglent_FuncGen\n",
    "import time\n",
    "\n",
    "CHANNEL_INPUT = Siglent_FuncGen(1, \"192.168.1.189\")\n",
    "\n",
    "PULSE_FREQ = 20\n",
    "PULSE_WIDTH = 10e-9\n",
    "PULSE_AMP = 0.15\n",
    "\n",
    "CHANNEL_INPUT.rf_off()\n",
    "\n",
    "# REGULAR PULSE\n",
    "CHANNEL_INPUT.set_burst(\"OFF\")\n",
    "CHANNEL_INPUT.set_wavetype(\"PULSE\")\n",
    "CHANNEL_INPUT.set_width(PULSE_WIDTH)\n",
    "CHANNEL_INPUT.set_rise(2e-9)\n",
    "CHANNEL_INPUT.set_amp(PULSE_AMP)\n",
    "CHANNEL_INPUT.set_freq(PULSE_FREQ)\n",
    "\n",
    "# BURST PULSE\n",
    "# NUM_PULSES = 10\n",
    "# PULSE_FREQ = 50e6\n",
    "# BURST_PERIOD = 1\n",
    "# CHANNEL_INPUT.set_wavetype(\"PULSE\")\n",
    "# CHANNEL_INPUT.set_width(PULSE_WIDTH)\n",
    "# CHANNEL_INPUT.set_rise(2e-9)\n",
    "# CHANNEL_INPUT.set_amp(PULSE_AMP)\n",
    "# CHANNEL_INPUT.set_freq(PULSE_FREQ)\n",
    "\n",
    "# CHANNEL_INPUT.set_burst(\"ON\")\n",
    "# CHANNEL_INPUT.set_burst_mode(\"NCYC\")\n",
    "# CHANNEL_INPUT.set_burst_time(NUM_PULSES)\n",
    "# CHANNEL_INPUT.set_burst_period(BURST_PERIOD)\n",
    "\n",
    "print(CHANNEL_INPUT.get_output_settings())"
   ]
  },
  {
   "cell_type": "markdown",
   "metadata": {},
   "source": [
    "### Set DACS"
   ]
  },
  {
   "cell_type": "code",
   "execution_count": null,
   "metadata": {},
   "outputs": [],
   "source": [
    "get_dac_controller(BOARD).set_dacs(1600)"
   ]
  },
  {
   "cell_type": "markdown",
   "metadata": {},
   "source": [
    "### Generate / Load Pedestals"
   ]
  },
  {
   "cell_type": "code",
   "execution_count": null,
   "metadata": {},
   "outputs": [],
   "source": [
    "USE_OLD_PEDS = True\n",
    "\n",
    "if USE_OLD_PEDS and os.path.exists(CALIBRATIONS_DIR / \"hdsocv1_evalr2.peds\"):\n",
    "    with open(CALIBRATIONS_DIR / \"hdsocv1_evalr2.peds\", \"rb\") as file:\n",
    "        peds = pickle.load(file)\n",
    "    BOARD.pedestals = peds\n",
    "else:\n",
    "    PC = get_pedestals_controller(BOARD)\n",
    "    PC.generate_pedestals()\n",
    "    with open(CALIBRATIONS_DIR / \"hdsocv1_evalr2.peds\", \"wb\") as file:\n",
    "        pickle.dump(BOARD.pedestals, file)"
   ]
  },
  {
   "cell_type": "markdown",
   "metadata": {},
   "source": [
    "### Calculate Triggers Thresholds"
   ]
  },
  {
   "cell_type": "code",
   "execution_count": null,
   "metadata": {},
   "outputs": [],
   "source": [
    "USE_OLD_THRESHOLDS = True\n",
    "STEP_SIZE = 5\n",
    "LOW_REF = 6\n",
    "HIGH_REF = 12\n",
    "THRESH_START = BOARD.params[\"threshold_scan\"][\"start\"]\n",
    "THRESH_END = BOARD.params[\"threshold_scan\"][\"stop\"]\n",
    "\n",
    "if USE_OLD_THRESHOLDS and os.path.exists(CALIBRATIONS_DIR / \"threshold_sweep.pkl\"):\n",
    "    with open(CALIBRATIONS_DIR / \"threshold_sweep.pkl\", \"rb\") as file:\n",
    "        threshold_data = pickle.load(file)\n",
    "else:\n",
    "    AR = AnalogRegisters(BOARD)\n",
    "    AR.write(\"tsel_left\", 1)\n",
    "    AR.write(\"tsel_right\", 1)\n",
    "    AR.write(\"tsgn_left\", 1)\n",
    "    AR.write(\"tsgn_right\", 1)\n",
    "\n",
    "    scanrange = np.arange(THRESH_START, THRESH_END, STEP_SIZE)\n",
    "    threshold_scanner = get_threshold_scanner(BOARD)\n",
    "    threshold_scanner.scan_values = scanrange\n",
    "    threshold_scanner.low_ref_value = LOW_REF\n",
    "    threshold_scanner.high_ref_value = HIGH_REF\n",
    "\n",
    "    threshold_data = threshold_scanner.run()\n",
    "\n",
    "    with open(CALIBRATIONS_DIR / \"threshold_sweep.pkl\", \"wb\") as file:\n",
    "        pickle.dump(threshold_data, file)"
   ]
  },
  {
   "cell_type": "markdown",
   "metadata": {},
   "source": [
    "### Plot Threshold Scan"
   ]
  },
  {
   "cell_type": "code",
   "execution_count": null,
   "metadata": {},
   "outputs": [],
   "source": [
    "fig = create_fig(figsize=(10,8))\n",
    "plt.xlabel(\"Trigger Level (DAC Counts)\")\n",
    "plt.ylabel(\"Occurences\")\n",
    "plt.title(f\"HDSoCv1 Threshold Scan\")\n",
    "threshold_values = threshold_data[1]\n",
    "for channel, threshold_hits in enumerate(threshold_data[0]):\n",
    "    plt.plot(\n",
    "        threshold_values, threshold_hits, \".-\", ms=8, label=f\"Channel {channel}\"\n",
    "    )\n",
    "plt.legend(fontsize=10, loc=\"upper left\")\n",
    "plt.grid()"
   ]
  },
  {
   "cell_type": "markdown",
   "metadata": {},
   "source": [
    "### Setup Triggers"
   ]
  },
  {
   "cell_type": "code",
   "execution_count": null,
   "metadata": {},
   "outputs": [],
   "source": [
    "from naludaq.controllers.trigger import get_trigger_controller\n",
    "\n",
    "TRIGGER_OFFSET = 20\n",
    "CHANNELS_TO_SET = [1] # range(BOARD.channels)\n",
    "\n",
    "DR = DigitalRegisters(BOARD)\n",
    "AR = AnalogRegisters(BOARD)\n",
    "TC = get_trigger_controller(BOARD)\n",
    "\n",
    "TC.update_reference_voltages(\"left\", LOW_REF, HIGH_REF)\n",
    "TC.update_reference_voltages(\"right\", LOW_REF, HIGH_REF)\n",
    "AR.write(\"tsel_left\", 1)\n",
    "AR.write(\"tsel_right\", 1)\n",
    "AR.write(\"tsgn_left\", 1)\n",
    "AR.write(\"tsgn_right\", 1)\n",
    "\n",
    "trigger_values = [1] * BOARD.channels\n",
    "max_trigger = BOARD.params[\"trigger\"][\"max_counts\"]\n",
    "\n",
    "# Calculate the trigger levels for each channel\n",
    "max_trigger_values = calculate_max_trigger(threshold_data)\n",
    "for chan in CHANNELS_TO_SET:\n",
    "    trigger_values[chan] = min(int(max_trigger_values[chan] + TRIGGER_OFFSET), max_trigger)\n",
    "\n",
    "BOARD.trigger_values = trigger_values\n",
    "TC.write_triggers()"
   ]
  },
  {
   "cell_type": "markdown",
   "metadata": {},
   "source": [
    "### Run ROI Mode Capture"
   ]
  },
  {
   "cell_type": "code",
   "execution_count": null,
   "metadata": {},
   "outputs": [],
   "source": [
    "BC = get_board_controller(BOARD)\n",
    "RC = get_readout_controller(BOARD)\n",
    "\n",
    "# Set Readout Channels\n",
    "RC.set_readout_channels([*range(BOARD.channels)])\n",
    "\n",
    "\n",
    "WINDOW = 62\n",
    "LOOKBACK = 62\n",
    "WAT = 31\n",
    "READOUTCHANNELS = 59 # Fine tune placement of pulse in event\n",
    "\n",
    "TRIGGER_TIME = 5\n",
    "READOUT_TIME = 0\n",
    "\n",
    "RC.set_read_window(WINDOW, LOOKBACK, WAT)\n",
    "DR.write(\"readoutchannels\", READOUTCHANNELS)\n",
    "\n",
    "READOUT_PARAMS = {\n",
    "    \"trig\": \"self\",\n",
    "    \"lb\": \"roi\",\n",
    "    \"acq\": \"raw\",\n",
    "    \"ped\": \"zero\",\n",
    "    \"readoutEn\": True,\n",
    "    \"singleEv\": False,\n",
    "}\n",
    "\n",
    "acq_name = create_acq_name(\"hdsocv1_evalr2_ROI\")\n",
    "acq = create_acquisition(acq_name, BOARD)\n",
    "\n",
    "CHANNEL_INPUT.rf_on()\n",
    "time.sleep(0.25)\n",
    "try:\n",
    "    BC.start_readout(**READOUT_PARAMS)\n",
    "    time.sleep(TRIGGER_TIME)\n",
    "finally:\n",
    "    CHANNEL_INPUT.rf_off()\n",
    "    time.sleep(READOUT_TIME)\n",
    "    BC.stop_readout()\n",
    "    time.sleep(0.25)\n",
    "\n",
    "print(f\"Num of events received: {len(acq)}\")"
   ]
  },
  {
   "cell_type": "markdown",
   "metadata": {},
   "source": [
    "### Parse Events"
   ]
  },
  {
   "cell_type": "code",
   "execution_count": null,
   "metadata": {},
   "outputs": [],
   "source": [
    "events = []\n",
    "for raw_event in acq:\n",
    "    events.append(parse_data(raw_event, BOARD))"
   ]
  },
  {
   "cell_type": "markdown",
   "metadata": {},
   "source": [
    "### Plot Single Event"
   ]
  },
  {
   "cell_type": "code",
   "execution_count": null,
   "metadata": {},
   "outputs": [],
   "source": [
    "EVENT_IDX = 5\n",
    "event = events[EVENT_IDX]\n",
    "\n",
    "fig = create_fig(figsize=(10,8))\n",
    "fig.set_facecolor('white')\n",
    "plot_single_event(event, show=False)\n",
    "plt.grid(True, axis=\"x\")\n",
    "plt.xlim([0, len(event[\"data\"][1])])\n",
    "plt.xticks([*range(0, len(event[\"data\"][1]), 32)], labels=event[\"window_labels\"][1])\n",
    "plt.xlabel(\"Window Labels\")\n",
    "plt.title(f\"WIN: {WINDOW}, LB: {LOOKBACK}, WAT: {WAT}, READOUT: {READOUTCHANNELS}, Pulse Width: {PULSE_WIDTH}, , Event: {EVENT_IDX}\")"
   ]
  },
  {
   "cell_type": "markdown",
   "metadata": {},
   "source": [
    "### Plot From Existing Acquisition"
   ]
  },
  {
   "cell_type": "code",
   "execution_count": null,
   "metadata": {},
   "outputs": [],
   "source": [
    "AM = AcquisitionManager(BOARD)\n",
    "ACQUISITIONS = AM.list()\n",
    "\n",
    "ACQ = ACQUISITIONS[-1]\n",
    "print(ACQ.name)\n",
    "\n",
    "disk_acq = DiskAcquisition(str(DATA_DIR / ACQ.name))\n",
    "\n",
    "evt = parse_data(disk_acq[1], BOARD)\n",
    "fig = create_fig((10, 6))\n",
    "fig.set_facecolor('white')\n",
    "plot_single_event(evt, show=False)\n",
    "plt.xlim([0, len(evt[\"data\"][1])])\n",
    "plt.xticks([*range(0, len(evt[\"data\"][1]), 32)], labels=evt[\"window_labels\"][1])\n",
    "plt.xlabel(\"Window Labels\")\n",
    "plt.title(f\"Pulse Width: {PULSE_WIDTH}\")\n",
    "    "
   ]
  },
  {
   "cell_type": "markdown",
   "metadata": {},
   "source": [
    "### Using Data Collector"
   ]
  },
  {
   "cell_type": "code",
   "execution_count": null,
   "metadata": {},
   "outputs": [],
   "source": [
    "from naludaq.tools.data_collector import get_data_collector\n",
    "DC = get_data_collector(BOARD)\n",
    "READ_WINDOW = {\n",
    "    \"windows\": 62,\n",
    "    \"lookback\": 62,\n",
    "    \"write_after_trig\": 31,\n",
    "}\n",
    "READOUT_PARAMS = {\n",
    "    \"trig\": \"self\",\n",
    "    \"lb\": \"roi\",\n",
    "    \"acq\": \"raw\",\n",
    "    \"ped\": \"zero\",\n",
    "    \"readoutEn\": True,\n",
    "    \"singleEv\": False,\n",
    "}\n",
    "DC.set_window(**READ_WINDOW)\n",
    "DC.readout_settings = READOUT_PARAMS\n",
    "\n",
    "\n",
    "CHANNEL_INPUT.rf_on()\n",
    "time.sleep(0.5)\n",
    "data = DC.iter(count=10, attempts=3).collect()\n",
    "CHANNEL_INPUT.rf_off()\n",
    "print(data)"
   ]
  }
 ],
 "metadata": {
  "kernelspec": {
   "display_name": "nalu-dev",
   "language": "python",
   "name": "python3"
  },
  "language_info": {
   "codemirror_mode": {
    "name": "ipython",
    "version": 3
   },
   "file_extension": ".py",
   "mimetype": "text/x-python",
   "name": "python",
   "nbconvert_exporter": "python",
   "pygments_lexer": "ipython3",
   "version": "3.9.16"
  },
  "orig_nbformat": 4
 },
 "nbformat": 4,
 "nbformat_minor": 2
}
